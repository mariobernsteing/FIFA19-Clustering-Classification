{
  "nbformat": 4,
  "nbformat_minor": 0,
  "metadata": {
    "colab": {
      "name": "SIT742Task2.ipynb",
      "provenance": [],
      "collapsed_sections": [],
      "toc_visible": true,
      "include_colab_link": true
    },
    "kernelspec": {
      "display_name": "Python 3",
      "language": "python",
      "name": "python3"
    },
    "language_info": {
      "codemirror_mode": {
        "name": "ipython",
        "version": 3
      },
      "file_extension": ".py",
      "mimetype": "text/x-python",
      "name": "python",
      "nbconvert_exporter": "python",
      "pygments_lexer": "ipython3",
      "version": "3.7.7"
    }
  },
  "cells": [
    {
      "cell_type": "markdown",
      "metadata": {
        "id": "view-in-github",
        "colab_type": "text"
      },
      "source": [
        "<a href=\"https://colab.research.google.com/github/mariobernsteing/FIFA19-Clustering-Classification/blob/master/findings.ipynb\" target=\"_parent\"><img src=\"https://colab.research.google.com/assets/colab-badge.svg\" alt=\"Open In Colab\"/></a>"
      ]
    },
    {
      "cell_type": "markdown",
      "metadata": {
        "colab_type": "text",
        "id": "2ljGko6N-6vf"
      },
      "source": [
        "## Overview\n",
        "\n",
        "Recently, [Kaggle](https://www.kaggle.com) (a data science community and competition platform) released one data set '[FIFA19](https://www.kaggle.com/karangadiya/fifa19)‘, which consists of 18K+ FIFA 19 player with around 90 attributes extracted from FIFA database. In this assessment task, we make it available as the data set:\n",
        "- [2020T2Data.csv](https://github.com/tulip-lab/sit742/raw/master/Assessment/2020/data/2020T2Data.csv): The data set for this assignment task.\n",
        "\n",
        "- **Part 1**: Exploratory Data Analysis\n",
        "\n",
        "- **Part 2**: Clustering Analysis, and identify the position profiles of each cluster\n",
        "\n",
        "- **Part 3**: Classification Analysis, and evaluate the performance of different algorithms using cross validation;\n"
      ]
    },
    {
      "cell_type": "markdown",
      "metadata": {
        "colab_type": "text",
        "id": "G1vjEdvs-6vh"
      },
      "source": [
        "## Part 1 - What we could know about FIFA 2019 Players? \n",
        "\n",
        "### 1.0. Libraries and data files\n",
        "<a id=\"Load data\"></a>\n",
        "***\n",
        "\n",
        "Import the necessary Spark environment, and load the data set [2020T2Data.csv](https://github.com/tulip-lab/sit742/raw/master/Assessment/2020/data/2020T2Data.csv).\n"
      ]
    },
    {
      "cell_type": "code",
      "metadata": {
        "colab_type": "code",
        "id": "auVRAscVRVrI",
        "outputId": "83d81db9-b7a1-4dbc-ce0c-9fdf8dbcb549",
        "colab": {
          "base_uri": "https://localhost:8080/",
          "height": 190
        }
      },
      "source": [
        "#install packages required\n",
        "!pip install wget\n",
        "!apt-get install openjdk-8-jdk-headless -qq > /dev/null\n",
        "!wget -q https://archive.apache.org/dist/spark/spark-2.4.0/spark-2.4.0-bin-hadoop2.7.tgz\n",
        "!tar xf spark-2.4.0-bin-hadoop2.7.tgz\n",
        "!pip install -q findspark\n",
        "import os,wget\n",
        "os.environ[\"JAVA_HOME\"] = \"/usr/lib/jvm/java-8-openjdk-amd64\"\n",
        "os.environ[\"SPARK_HOME\"] = \"/content/spark-2.4.0-bin-hadoop2.7\"\n",
        "\n",
        "#import data from URL\n",
        "link_to_data = 'https://github.com/tulip-lab/sit742/raw/master/Assessment/2020/data/2020T2Data.csv'\n",
        "DataSet = wget.download(link_to_data)"
      ],
      "execution_count": 0,
      "outputs": [
        {
          "output_type": "stream",
          "text": [
            "Collecting wget\n",
            "  Downloading https://files.pythonhosted.org/packages/47/6a/62e288da7bcda82b935ff0c6cfe542970f04e29c756b0e147251b2fb251f/wget-3.2.zip\n",
            "Building wheels for collected packages: wget\n",
            "  Building wheel for wget (setup.py) ... \u001b[?25l\u001b[?25hdone\n",
            "  Created wheel for wget: filename=wget-3.2-cp36-none-any.whl size=9682 sha256=4fda73f480d37d542f1c5dd7707c6a32b61c1e1d1441a2c966c417b1085bfbea\n",
            "  Stored in directory: /root/.cache/pip/wheels/40/15/30/7d8f7cea2902b4db79e3fea550d7d7b85ecb27ef992b618f3f\n",
            "Successfully built wget\n",
            "Installing collected packages: wget\n",
            "Successfully installed wget-3.2\n"
          ],
          "name": "stdout"
        }
      ]
    },
    {
      "cell_type": "code",
      "metadata": {
        "colab_type": "code",
        "id": "3Gxm5nc6Rz-a",
        "colab": {}
      },
      "source": [
        "#import Spark packages required\n",
        "import findspark\n",
        "findspark.init()\n",
        "from pyspark.sql import SparkSession"
      ],
      "execution_count": 0,
      "outputs": []
    },
    {
      "cell_type": "markdown",
      "metadata": {
        "colab_type": "text",
        "id": "dSPbqoEGR30v"
      },
      "source": [
        "### 1.1 Data Exploration\n",
        "\n",
        "*Remind: You must only use **PySpark** to complete the following data processing and model building. Otherwise, you lose all marks.*\n",
        "\n",
        "<a id=\"loading\"></a>\n",
        "***\n",
        "\n",
        "<div class=\"alert alert-block alert-info\">\n",
        "\n",
        "**Code**: \n",
        "    import the csv file as a Spark dataframe and name it as df\n",
        "\n",
        "</div>\n",
        "\n"
      ]
    },
    {
      "cell_type": "code",
      "metadata": {
        "colab_type": "code",
        "id": "uuGY6lgWR7B3",
        "outputId": "6a97c86e-e98a-47e4-cf7f-128879dacc9b",
        "colab": {
          "base_uri": "https://localhost:8080/",
          "height": 479
        }
      },
      "source": [
        "#import the '2020T2Data.csv' as a Spark dataframe and named as df\n",
        "spark = SparkSession.builder.appName('SIT742T2').getOrCreate()\n",
        "df = spark.read.format(\"csv\").option(\"header\", \"true\").load(DataSet)\n",
        "df.show()"
      ],
      "execution_count": 0,
      "outputs": [
        {
          "output_type": "stream",
          "text": [
            "+------+-----------------+---+--------------------+-----------+--------------------+-------+---------+-------------------+--------------------+--------+-------+-------+--------------+------------------------+---------+-----------+--------------+----------+---------+--------+-------------+------------+-----------+--------------------+------+----------+------+----------+--------+---------+---------------+------------+-------+---------+-----+----------+-----------+-----------+------------+-----------+-------+---------+-------+---------+-------+-------+--------+---------+----------+-------------+-----------+------+---------+---------+-------+--------------+-------------+--------+----------+---------+-------------+----------+-----------------+\n",
            "|    ID|             Name|Age|               Photo|Nationality|                Flag|Overall|Potential|               Club|           Club Logo|value(M)|wage(K)|Special|Preferred Foot|International Reputation|Weak Foot|Skill Moves|     Work Rate| Body Type|Real Face|Position|Jersey Number|      Joined|Loaned From|Contract Valid Until|Height|Height(CM)|Weight|Weight(KG)|Crossing|Finishing|HeadingAccuracy|ShortPassing|Volleys|Dribbling|Curve|FKAccuracy|LongPassing|BallControl|Acceleration|SprintSpeed|Agility|Reactions|Balance|ShotPower|Jumping|Stamina|Strength|LongShots|Aggression|Interceptions|Positioning|Vision|Penalties|Composure|Marking|StandingTackle|SlidingTackle|GKDiving|GKHandling|GKKicking|GKPositioning|GKReflexes|Release Clause(M)|\n",
            "+------+-----------------+---+--------------------+-----------+--------------------+-------+---------+-------------------+--------------------+--------+-------+-------+--------------+------------------------+---------+-----------+--------------+----------+---------+--------+-------------+------------+-----------+--------------------+------+----------+------+----------+--------+---------+---------------+------------+-------+---------+-----+----------+-----------+-----------+------------+-----------+-------+---------+-------+---------+-------+-------+--------+---------+----------+-------------+-----------+------+---------+---------+-------+--------------+-------------+--------+----------+---------+-------------+----------+-----------------+\n",
            "|158023|         L. Messi| 31|https://cdn.sofif...|  Argentina|https://cdn.sofif...|     94|       94|       FC Barcelona|https://cdn.sofif...|   110.5|    565|   2202|          Left|                       5|        4|          4|Medium/ Medium|     Messi|      Yes|      RF|           10| Jul 1, 2004|       null|                2021|  5.70|   173.736|159.00| 72.121128|      84|       95|             70|          90|     86|       97|   93|        94|         87|         96|          91|         86|     91|       95|     95|       85|     68|     72|      59|       94|        48|           22|         94|    94|       75|       96|     33|            28|           26|       6|        11|       15|           14|         8|            226.5|\n",
            "| 20801|Cristiano Ronaldo| 33|https://cdn.sofif...|   Portugal|https://cdn.sofif...|     94|       94|           Juventus|https://cdn.sofif...|      77|    405|   2228|         Right|                       5|        4|          5|     High/ Low|C. Ronaldo|      Yes|      ST|            7|Jul 10, 2018|       null|                2022|  6.20|   188.976|183.00| 83.007336|      84|       94|             89|          81|     87|       88|   81|        76|         77|         94|          89|         91|     87|       96|     70|       95|     95|     88|      79|       93|        63|           29|         95|    82|       85|       95|     28|            31|           23|       7|        11|       15|           14|        11|            127.1|\n",
            "|190871|        Neymar Jr| 26|https://cdn.sofif...|     Brazil|https://cdn.sofif...|     92|       93|Paris Saint-Germain|https://cdn.sofif...|   118.5|    290|   2143|         Right|                       5|        5|          5|  High/ Medium|    Neymar|      Yes|      LW|           10| Aug 3, 2017|       null|                2022|  5.90|   179.832|150.00|   68.0388|      79|       87|             62|          84|     84|       96|   88|        87|         78|         95|          94|         90|     96|       94|     84|       80|     61|     81|      49|       82|        56|           36|         89|    87|       81|       94|     27|            24|           33|       9|         9|       15|           15|        11|            228.1|\n",
            "|193080|           De Gea| 27|https://cdn.sofif...|      Spain|https://cdn.sofif...|     91|       93|  Manchester United|https://cdn.sofif...|      72|    260|   1471|         Right|                       4|        3|          1|Medium/ Medium|      Lean|      Yes|      GK|            1| Jul 1, 2011|       null|                2020|  6.40|   195.072|168.00| 76.203456|      17|       13|             21|          50|     13|       18|   21|        19|         51|         42|          57|         58|     60|       90|     43|       31|     67|     43|      64|       12|        38|           30|         12|    68|       40|       68|     15|            21|           13|      90|        85|       87|           88|        94|            138.6|\n",
            "|192985|     K. De Bruyne| 27|https://cdn.sofif...|    Belgium|https://cdn.sofif...|     91|       92|    Manchester City|https://cdn.sofif...|     102|    355|   2281|         Right|                       4|        5|          4|    High/ High|    Normal|      Yes|     RCM|            7|Aug 30, 2015|       null|                2023|  5.11|  155.7528|154.00| 69.853168|      93|       82|             55|          92|     82|       86|   85|        83|         91|         91|          78|         76|     79|       91|     77|       91|     63|     90|      75|       91|        76|           61|         87|    94|       79|       88|     68|            58|           51|      15|        13|        5|           10|        13|            196.4|\n",
            "|183277|        E. Hazard| 27|https://cdn.sofif...|    Belgium|https://cdn.sofif...|     91|       91|            Chelsea|https://cdn.sofif...|      93|    340|   2142|         Right|                       4|        4|          4|  High/ Medium|    Normal|      Yes|      LF|           10| Jul 1, 2012|       null|                2020|  5.80|   176.784|163.00| 73.935496|      81|       84|             61|          89|     80|       95|   83|        79|         83|         94|          94|         88|     95|       90|     94|       82|     56|     83|      66|       80|        54|           41|         87|    89|       86|       91|     34|            27|           22|      11|        12|        6|            8|         8|            172.1|\n",
            "|177003|        L. Modri?| 32|https://cdn.sofif...|    Croatia|https://cdn.sofif...|     91|       91|        Real Madrid|https://cdn.sofif...|      67|    420|   2280|         Right|                       4|        4|          4|    High/ High|      Lean|      Yes|     RCM|           10| Aug 1, 2012|       null|                2020|  5.80|   176.784|146.00| 66.224432|      86|       72|             55|          93|     76|       90|   85|        78|         88|         93|          80|         72|     93|       90|     94|       79|     68|     89|      58|       82|        62|           83|         79|    92|       82|       84|     60|            76|           73|      13|         9|        7|           14|         9|            137.4|\n",
            "|176580|       L. Su��rez| 31|https://cdn.sofif...|    Uruguay|https://cdn.sofif...|     91|       91|       FC Barcelona|https://cdn.sofif...|      80|    455|   2346|         Right|                       5|        4|          3|  High/ Medium|    Normal|      Yes|      RS|            9|Jul 11, 2014|       null|                2021|  6.00|    182.88|190.00|  86.18248|      77|       93|             77|          82|     88|       87|   86|        84|         64|         90|          86|         75|     82|       92|     83|       86|     69|     90|      83|       85|        87|           41|         92|    84|       85|       85|     62|            45|           38|      27|        25|       31|           33|        37|              164|\n",
            "|155862|     Sergio Ramos| 32|https://cdn.sofif...|      Spain|https://cdn.sofif...|     91|       91|        Real Madrid|https://cdn.sofif...|      51|    380|   2201|         Right|                       4|        3|          3|  High/ Medium|    Normal|      Yes|     RCB|           15| Aug 1, 2005|       null|                2020|  6.00|    182.88|181.00| 82.100152|      66|       60|             91|          78|     66|       63|   74|        72|         77|         84|          76|         75|     78|       85|     66|       79|     93|     84|      83|       59|        88|           90|         60|    63|       75|       82|     87|            92|           91|      11|         8|        9|            7|        11|            104.6|\n",
            "|200389|         J. Oblak| 25|https://cdn.sofif...|   Slovenia|https://cdn.sofif...|     90|       93|   Atl��tico Madrid|https://cdn.sofif...|      68|     94|   1331|         Right|                       3|        3|          1|Medium/ Medium|    Normal|      Yes|      GK|            1|Jul 16, 2014|       null|                2021|  6.20|   188.976|192.00| 87.089664|      13|       11|             15|          29|     13|       12|   13|        14|         26|         16|          43|         60|     67|       86|     49|       22|     76|     41|      78|       12|        34|           19|         11|    70|       11|       70|     27|            12|           18|      86|        92|       78|           88|        89|            144.5|\n",
            "|188545|   R. Lewandowski| 29|https://cdn.sofif...|     Poland|https://cdn.sofif...|     90|       90| FC Bayern M��nchen|https://cdn.sofif...|      77|    205|   2152|         Right|                       4|        4|          4|  High/ Medium|    Normal|      Yes|      ST|            9| Jul 1, 2014|       null|                2021|  6.00|    182.88|176.00| 79.832192|      62|       91|             85|          83|     89|       85|   77|        86|         65|         89|          77|         78|     78|       90|     78|       88|     84|     78|      84|       84|        80|           39|         91|    77|       88|       86|     34|            42|           19|      15|         6|       12|            8|        10|            127.1|\n",
            "|182521|         T. Kroos| 28|https://cdn.sofif...|    Germany|https://cdn.sofif...|     90|       90|        Real Madrid|https://cdn.sofif...|    76.5|    355|   2190|         Right|                       4|        5|          3|Medium/ Medium|    Normal|      Yes|     LCM|            8|Jul 17, 2014|       null|                2022|  6.00|    182.88|168.00| 76.203456|      88|       76|             54|          92|     82|       81|   86|        84|         93|         90|          64|         62|     70|       89|     71|       87|     30|     75|      73|       92|        60|           82|         79|    86|       73|       85|     72|            79|           69|      10|        11|       13|            7|        10|            156.8|\n",
            "|182493|        D. God��n| 32|https://cdn.sofif...|    Uruguay|https://cdn.sofif...|     90|       90|   Atl��tico Madrid|https://cdn.sofif...|      44|    125|   1946|         Right|                       3|        3|          2|  Medium/ High|      Lean|      Yes|      CB|           10| Aug 4, 2010|       null|                2019|  6.20|   188.976|172.00| 78.017824|      55|       42|             92|          79|     47|       53|   49|        51|         70|         76|          68|         68|     58|       85|     54|       67|     91|     66|      88|       43|        89|           88|         48|    52|       50|       82|     90|            89|           89|       6|         8|       15|            5|        15|             90.2|\n",
            "|168542|      David Silva| 32|https://cdn.sofif...|      Spain|https://cdn.sofif...|     90|       90|    Manchester City|https://cdn.sofif...|      60|    285|   2115|          Left|                       4|        2|          4|  High/ Medium|    Normal|      Yes|     LCM|           21|Jul 14, 2010|       null|                2020|  5.80|   176.784|148.00| 67.131616|      84|       76|             54|          93|     82|       89|   82|        77|         87|         94|          70|         64|     92|       90|     90|       72|     64|     78|      52|       75|        57|           50|         89|    92|       75|       93|     59|            53|           29|       6|        15|        7|            6|        12|              111|\n",
            "|215914|        N. Kant��| 27|https://cdn.sofif...|     France|https://cdn.sofif...|     89|       90|            Chelsea|https://cdn.sofif...|      63|    225|   2189|         Right|                       3|        3|          2|  Medium/ High|      Lean|      Yes|     LDM|           13|Jul 16, 2016|       null|                2023|  5.60|   170.688|159.00| 72.121128|      68|       65|             54|          86|     56|       79|   49|        49|         81|         80|          82|         78|     82|       93|     92|       71|     77|     96|      76|       69|        90|           92|         71|    79|       54|       85|     90|            91|           85|      15|        12|       10|            7|        10|            121.3|\n",
            "|211110|        P. Dybala| 24|https://cdn.sofif...|  Argentina|https://cdn.sofif...|     89|       94|           Juventus|https://cdn.sofif...|      89|    205|   2092|          Left|                       3|        3|          4|  High/ Medium|    Normal|      Yes|      LF|           21| Jul 1, 2015|       null|                2022|  5.10|   155.448|165.00|  74.84268|      82|       84|             68|          87|     88|       92|   88|        88|         75|         92|          87|         83|     91|       86|     85|       82|     75|     80|      65|       88|        48|           32|         84|    87|       86|       84|     23|            20|           20|       5|         4|        4|            5|         8|            153.5|\n",
            "|202126|          H. Kane| 24|https://cdn.sofif...|    England|https://cdn.sofif...|     89|       91|  Tottenham Hotspur|https://cdn.sofif...|    83.5|    205|   2165|         Right|                       3|        4|          3|    High/ High|    Normal|      Yes|      ST|            9| Jul 1, 2010|       null|                2024|  6.20|   188.976|196.00| 88.904032|      75|       94|             85|          80|     84|       80|   78|        68|         82|         84|          68|         72|     71|       91|     71|       88|     78|     89|      84|       85|        76|           35|         93|    80|       90|       89|     56|            36|           38|       8|        10|       11|           14|        11|            160.7|\n",
            "|194765|     A. Griezmann| 27|https://cdn.sofif...|     France|https://cdn.sofif...|     89|       90|   Atl��tico Madrid|https://cdn.sofif...|      78|    145|   2246|          Left|                       4|        3|          4|    High/ High|      Lean|      Yes|     CAM|            7|Jul 28, 2014|       null|                2023|  5.90|   179.832|161.00| 73.028312|      82|       90|             84|          83|     87|       88|   84|        78|         76|         90|          88|         85|     90|       90|     80|       80|     90|     83|      62|       82|        69|           35|         91|    83|       79|       87|     59|            47|           48|      14|         8|       14|           13|        14|            165.8|\n",
            "|192448|    M. ter Stegen| 26|https://cdn.sofif...|    Germany|https://cdn.sofif...|     89|       92|       FC Barcelona|https://cdn.sofif...|      58|    240|   1328|         Right|                       3|        4|          1|Medium/ Medium|    Normal|      Yes|      GK|           22| Jul 1, 2014|       null|                2022|  6.20|   188.976|187.00| 84.821704|      15|       14|             11|          36|     14|       17|   18|        12|         42|         18|          38|         50|     37|       85|     43|       22|     79|     35|      79|       10|        43|           22|         11|    69|       25|       69|     25|            13|           10|      87|        85|       88|           85|        90|            123.3|\n",
            "|192119|      T. Courtois| 26|https://cdn.sofif...|    Belgium|https://cdn.sofif...|     89|       90|        Real Madrid|https://cdn.sofif...|    53.5|    240|   1311|          Left|                       4|        2|          1|Medium/ Medium|  Courtois|      Yes|      GK|            1| Aug 9, 2018|       null|                2024|  6.60|   201.168|212.00| 96.161504|      14|       14|             13|          33|     12|       13|   19|        20|         35|         23|          46|         52|     61|       84|     45|       36|     68|     38|      70|       17|        23|           15|         13|    44|       27|       66|     20|            18|           16|      85|        91|       72|           86|        88|            113.7|\n",
            "+------+-----------------+---+--------------------+-----------+--------------------+-------+---------+-------------------+--------------------+--------+-------+-------+--------------+------------------------+---------+-----------+--------------+----------+---------+--------+-------------+------------+-----------+--------------------+------+----------+------+----------+--------+---------+---------------+------------+-------+---------+-----+----------+-----------+-----------+------------+-----------+-------+---------+-------+---------+-------+-------+--------+---------+----------+-------------+-----------+------+---------+---------+-------+--------------+-------------+--------+----------+---------+-------------+----------+-----------------+\n",
            "only showing top 20 rows\n",
            "\n"
          ],
          "name": "stdout"
        }
      ]
    },
    {
      "cell_type": "markdown",
      "metadata": {
        "colab_type": "text",
        "id": "2sXsdZ2wbrAg"
      },
      "source": [
        "****\n",
        "\n",
        "\n",
        "<div class=\"alert alert-block alert-info\">\n",
        "\n",
        "**Code**: \n",
        "    Check statistics (min, mean and max) for features on Age, Overall. Then find out the Avg Overall on Position, Avg Overall on Nationality (Sort by avg Overall on Nationality)\n",
        "\n",
        "<div class=\"alert alert-block alert-warning\">\n",
        "    \n",
        "**Report**: \n",
        "    **1.1.A** Please answer questions with proper section title  '1.1.A':     \n",
        "    <ol>\n",
        "        <li> Which are the (min, mean and max) for Age </li>\n",
        "        <li> Which are the (min, mean and max) for Overall </li>\n",
        "        <li> Find the position having highest Avg Overall (sort Avg Overall by position) </li>\n",
        "        <li> Find the top 3 countries with highest Avg Overall (sort Avg Overall by countries)  </li>\n",
        "    </ol>\n",
        "</div>\n",
        "</div>"
      ]
    },
    {
      "cell_type": "code",
      "metadata": {
        "colab_type": "code",
        "id": "mdWVric-aY-h",
        "outputId": "aa4d3102-9c4d-4c66-f2bf-0976ab12bdf0",
        "colab": {
          "base_uri": "https://localhost:8080/",
          "height": 119
        }
      },
      "source": [
        "#check statistics for \"Age\" using sql functions\n",
        "from pyspark.sql import functions as F\n",
        "df.select(F.min(F.col(\"Age\")).alias(\"min\"),\n",
        "    F.mean(F.col(\"Age\")).alias(\"mean\"),\n",
        "    F.max(F.col(\"Age\")).alias(\"max\"))\\\n",
        "    .show()"
      ],
      "execution_count": 0,
      "outputs": [
        {
          "output_type": "stream",
          "text": [
            "+---+------------------+---+\n",
            "|min|              mean|max|\n",
            "+---+------------------+---+\n",
            "| 16|25.122205745043114| 45|\n",
            "+---+------------------+---+\n",
            "\n"
          ],
          "name": "stdout"
        }
      ]
    },
    {
      "cell_type": "code",
      "metadata": {
        "colab_type": "code",
        "id": "-KMLB3sAfkpK",
        "outputId": "2b7fd7cd-668f-458c-bec1-ca1e4ed143d1",
        "colab": {
          "base_uri": "https://localhost:8080/",
          "height": 119
        }
      },
      "source": [
        "#check statistics for \"Overall\"\n",
        "df.select(F.min(F.col(\"Overall\")).alias(\"min\"),\n",
        "    F.mean(F.col(\"Overall\")).alias(\"mean\"),\n",
        "    F.max(F.col(\"Overall\")).alias(\"max\"))\\\n",
        "    .show()"
      ],
      "execution_count": 0,
      "outputs": [
        {
          "output_type": "stream",
          "text": [
            "+---+-----------------+---+\n",
            "|min|             mean|max|\n",
            "+---+-----------------+---+\n",
            "| 46|66.23869940132916| 94|\n",
            "+---+-----------------+---+\n",
            "\n"
          ],
          "name": "stdout"
        }
      ]
    },
    {
      "cell_type": "code",
      "metadata": {
        "colab_type": "code",
        "id": "S4SMaNc4gX3E",
        "outputId": "d4b43a97-62ee-48d2-aa2c-639054a8572f",
        "colab": {
          "base_uri": "https://localhost:8080/",
          "height": 170
        }
      },
      "source": [
        "#group by \"Position\" and get average \"Overall\"\n",
        "df.groupby([\"Position\"])\\\n",
        ".agg({\"Overall\": \"AVG\"})\\\n",
        ".orderBy(\"avg(Overall)\", ascending=False)\\\n",
        ".show(3)"
      ],
      "execution_count": 0,
      "outputs": [
        {
          "output_type": "stream",
          "text": [
            "+--------+-----------------+\n",
            "|Position|     avg(Overall)|\n",
            "+--------+-----------------+\n",
            "|      LF|73.86666666666666|\n",
            "|      RF|            73.25|\n",
            "|     RAM|72.28571428571429|\n",
            "+--------+-----------------+\n",
            "only showing top 3 rows\n",
            "\n"
          ],
          "name": "stdout"
        }
      ]
    },
    {
      "cell_type": "code",
      "metadata": {
        "id": "JlBKTU39KwMr",
        "colab_type": "code",
        "outputId": "3ee3c6b6-a651-4d98-8895-968a5d7a9675",
        "colab": {
          "base_uri": "https://localhost:8080/",
          "height": 170
        }
      },
      "source": [
        "#group by \"Position\" and get average \"Overall\"\n",
        "df.groupby([\"Nationality\"])\\\n",
        ".agg({\"Overall\": \"AVG\"})\\\n",
        ".orderBy(\"avg(Overall)\", ascending=False)\\\n",
        ".show(3)"
      ],
      "execution_count": 0,
      "outputs": [
        {
          "output_type": "stream",
          "text": [
            "+--------------------+-----------------+\n",
            "|         Nationality|     avg(Overall)|\n",
            "+--------------------+-----------------+\n",
            "|United Arab Emirates|             77.0|\n",
            "|Central African Rep.|73.33333333333333|\n",
            "|              Israel|72.14285714285714|\n",
            "+--------------------+-----------------+\n",
            "only showing top 3 rows\n",
            "\n"
          ],
          "name": "stdout"
        }
      ]
    },
    {
      "cell_type": "markdown",
      "metadata": {
        "colab_type": "text",
        "id": "kT8OESOsmQfv"
      },
      "source": [
        "****\n",
        "\n",
        "<div class=\"alert alert-block alert-info\">\n",
        "\n",
        "**Code**: \n",
        "    You are required to find out the Avg Potentials on Country by Positions, and show the top 10 by ordering your results on Country with alphabet? (Hint: you may need to use pivot)\n",
        "\n",
        "<div class=\"alert alert-block alert-warning\">\n",
        "    \n",
        "**Report**: \n",
        "    **1.1.B** Please answer questions with proper section title  '1.1.B':     \n",
        "    <ol>\n",
        "        <li> Show the results on Avg Potentials on Country by Position with ordering the results on country by alphabet</li>\n",
        "        <li> Find position having highest Avg Potential for Australia </li>\n",
        "    </ol>\n",
        "    \n",
        "</div>\n",
        "</div>"
      ]
    },
    {
      "cell_type": "code",
      "metadata": {
        "colab_type": "code",
        "id": "R1RsTYgImPFD",
        "outputId": "b1f70459-5f09-4a13-e7f4-bbc62912c2d6",
        "colab": {
          "base_uri": "https://localhost:8080/",
          "height": 309
        }
      },
      "source": [
        "#group by \"Country\" and pivot by \"Position\". Then, calculate average \"Potential\"\n",
        "df.groupBy(\"Nationality\")\\\n",
        ".pivot(\"Position\")\\\n",
        ".agg({\"Potential\": \"AVG\"})\\\n",
        ".orderBy(\"Nationality\", descending=False)\\\n",
        ".show(10)"
      ],
      "execution_count": 0,
      "outputs": [
        {
          "output_type": "stream",
          "text": [
            "+-----------------+----+-----------------+-----------------+-----------------+----+-----------------+-----------------+----+-----------------+-----------------+-----------------+-----------------+----+-----------------+-----------------+-----------------+-----+----+-----------------+-----------------+-----------------+-----------------+----+-----------------+-----------------+-----------------+----+-----------------+\n",
            "|      Nationality|null|              CAM|               CB|              CDM|  CF|               CM|               GK| LAM|               LB|              LCB|              LCM|              LDM|  LF|               LM|               LS|               LW|  LWB| RAM|               RB|              RCB|              RCM|              RDM|  RF|               RM|               RS|               RW| RWB|               ST|\n",
            "+-----------------+----+-----------------+-----------------+-----------------+----+-----------------+-----------------+----+-----------------+-----------------+-----------------+-----------------+----+-----------------+-----------------+-----------------+-----+----+-----------------+-----------------+-----------------+-----------------+----+-----------------+-----------------+-----------------+----+-----------------+\n",
            "|      Afghanistan|null|             66.0|             null|             null|null|             71.0|             null|null|             64.0|             null|             null|             null|null|             70.0|             null|             null| null|null|             null|             null|             null|             null|null|             null|             null|             null|null|             null|\n",
            "|          Albania|70.0|            70.75|74.33333333333333|             69.5|null|            71.75|             77.5|null|             66.0|             null|             71.0|72.66666666666667|null|73.66666666666667|             null|             64.0| null|null|             75.0|             68.0|             75.0|             null|null|             64.0|             71.0|             72.5|null|            72.25|\n",
            "|          Algeria|null|            74.25|             69.5|            70.25|null|77.66666666666667|             67.6|null|            73.75|             69.0|             76.0|             73.0|null|74.66666666666667|             null|73.66666666666667| null|null|             63.0|             74.5|             76.0|71.33333333333333|null|            74.75|             null|             76.6|82.0|            73.75|\n",
            "|          Andorra|null|             null|             64.0|             null|null|             null|             null|null|             null|             null|             null|             null|null|             null|             null|             null| null|null|             null|             null|             null|             null|null|             null|             null|             null|null|             null|\n",
            "|           Angola|null|             null|             79.0|             null|null|             null|             null|null|             75.0|             72.0|             null|             null|null|             72.0|             null|             70.5| null|null|             null|             65.0|             null|             null|null|             68.0|             66.0|             null|null|75.66666666666667|\n",
            "|Antigua & Barbuda|null|             null|             null|             null|null|             null|             null|null|             null|             null|             null|             null|null|             65.0|             null|             null| null|null|             71.5|             null|             null|             null|null|             null|             null|             null|null|             63.0|\n",
            "|        Argentina|70.0|74.78260869565217|72.85858585858585|72.76363636363637|79.0|73.08695652173913|71.76288659793815|null|72.22033898305085|73.91428571428571|            74.52|           73.375|82.0|         74.40625|75.23076923076923|75.18518518518519|75.75|null|            71.98|73.05405405405405|72.94444444444444|             73.5|87.0| 73.2741935483871|             73.8|73.20689655172414|72.0|           72.928|\n",
            "|          Armenia|null|             null|             null|             null|null|             null|             null|null|             null|             null|             null|             null|null|             69.5|             73.0|             null| null|null|             72.0|             null|             null|             null|null|             83.0|             null|             70.5|null|             70.0|\n",
            "|        Australia|null|            71.25| 69.0952380952381|          66.8125|null|67.71428571428571|             67.0|null|68.28571428571429|             67.6|             70.0|             70.5|null|69.54545454545455|             64.0|66.44444444444444| 71.0|null|66.21428571428571|             69.5|             72.5|             77.0|null|70.53846153846153|             66.5|             68.6|66.0|            67.44|\n",
            "|          Austria|64.0|73.16666666666667|         70.28125|69.63157894736842|68.0|68.70588235294117| 68.1590909090909|null|69.47058823529412|71.58333333333333|72.44444444444444|             75.5|null|69.29411764705883|             82.0|72.33333333333333| 69.0|null| 69.0909090909091| 70.0909090909091|             69.6|72.85714285714286|66.0|70.30434782608695|70.66666666666667|             71.0|66.0|68.62962962962963|\n",
            "+-----------------+----+-----------------+-----------------+-----------------+----+-----------------+-----------------+----+-----------------+-----------------+-----------------+-----------------+----+-----------------+-----------------+-----------------+-----+----+-----------------+-----------------+-----------------+-----------------+----+-----------------+-----------------+-----------------+----+-----------------+\n",
            "only showing top 10 rows\n",
            "\n"
          ],
          "name": "stdout"
        }
      ]
    },
    {
      "cell_type": "code",
      "metadata": {
        "id": "h_Nkg_57K-4-",
        "colab_type": "code",
        "outputId": "e9cdf25d-b75d-49df-c100-46f4033c6330",
        "colab": {
          "base_uri": "https://localhost:8080/",
          "height": 136
        }
      },
      "source": [
        "#group by \"Position\" and get average \"Overall\" from Australia\n",
        "df.filter(df.Nationality == \"Australia\")\\\n",
        ".groupBy(\"Position\")\\\n",
        ".agg({\"Potential\": \"AVG\"})\\\n",
        ".orderBy(\"avg(Potential)\", ascending=False)\\\n",
        ".show(1)"
      ],
      "execution_count": 0,
      "outputs": [
        {
          "output_type": "stream",
          "text": [
            "+--------+--------------+\n",
            "|Position|avg(Potential)|\n",
            "+--------+--------------+\n",
            "|     RDM|          77.0|\n",
            "+--------+--------------+\n",
            "only showing top 1 row\n",
            "\n"
          ],
          "name": "stdout"
        }
      ]
    },
    {
      "cell_type": "markdown",
      "metadata": {
        "colab_type": "text",
        "id": "lGWtR6Ast7o8"
      },
      "source": [
        "Interesting, is there a age that the player is fully released his potential? If there is, could you find out?\n",
        "\n",
        "****\n",
        "\n",
        "<div class=\"alert alert-block alert-info\">\n",
        "\n",
        "**Code**: \n",
        "    You are required to plot the finding visually by having Age as the x-axis and avg potential on age with avg overall on age at y-axis. (Hint: you may need to select and aggregate on data first and then turn it into pandas for plotting)\n",
        "\n",
        "<div class=\"alert alert-block alert-warning\">\n",
        "    \n",
        "**Report**: \n",
        "    **1.1.C** Please include the following plot into your report with proper section title  '1.1.C':     \n",
        "    <ol>\n",
        "        <li> Plot the finding visually by having Age as the x-axis; the avg potential on age and the avg overall on age at y-axis. </li>\n",
        "        <li> Find the age when the players are fully released their potential in general?\n",
        "    </ol>\n",
        "    \n",
        "</div>\n",
        "</div>"
      ]
    },
    {
      "cell_type": "code",
      "metadata": {
        "colab_type": "code",
        "id": "mRvkk376u-dE",
        "outputId": "b208e7fd-85ab-46dc-ec17-cbbe8e4af994",
        "colab": {
          "base_uri": "https://localhost:8080/",
          "height": 822
        }
      },
      "source": [
        "import matplotlib.pyplot as plt\n",
        "import numpy as np\n",
        "import pandas as pd\n",
        "\n",
        "#passing dataset required to Pandas \n",
        "df_plot = df.groupby([\"Age\"])\\\n",
        ".agg({\"Overall\": \"AVG\", \"Potential\": \"AVG\"})\\\n",
        ".orderBy(\"Age\", descending=False)\\\n",
        ".toPandas()\n",
        "print(df_plot) #print to check age when fully released potential\n",
        "\n",
        "#plot\n",
        "df_plot.plot(x=\"Age\")\n",
        "plt.title(\"AVG Overall and Potential by Age\")\n",
        "plt.ylabel(\"level\")\n",
        "plt.xlabel(\"Age\")\n",
        "plt.legend(loc='best')"
      ],
      "execution_count": 0,
      "outputs": [
        {
          "output_type": "stream",
          "text": [
            "   Age  avg(Overall)  avg(Potential)\n",
            "0   16     54.452381       73.190476\n",
            "1   17     56.404844       74.339100\n",
            "2   18     57.741803       73.530055\n",
            "3   19     59.583008       73.146484\n",
            "4   20     61.858871       73.213710\n",
            "5   21     63.480675       72.957836\n",
            "6   22     64.994030       72.819403\n",
            "7   23     66.244745       72.555556\n",
            "8   24     67.306333       72.079529\n",
            "9   25     67.973465       71.290371\n",
            "10  26     68.514780       70.176640\n",
            "11  27     68.949225       69.709122\n",
            "12  28     69.213442       69.444142\n",
            "13  29     69.246090       69.357664\n",
            "14  30     69.695747       69.700109\n",
            "15  31     69.850071       69.850071\n",
            "16  32     69.529617       69.529617\n",
            "17  33     69.558824       69.558824\n",
            "18  34     69.539604       69.539604\n",
            "19  35     68.132653       68.132653\n",
            "20  36     67.937008       67.937008\n",
            "21  37     68.939024       68.939024\n",
            "22  38     67.378378       67.378378\n",
            "23  39     67.640000       67.640000\n",
            "24  40     67.692308       67.692308\n",
            "25  41     67.600000       67.600000\n",
            "26  42     65.000000       65.000000\n",
            "27  44     50.500000       50.500000\n",
            "28  45     71.000000       71.000000\n"
          ],
          "name": "stdout"
        },
        {
          "output_type": "execute_result",
          "data": {
            "text/plain": [
              "<matplotlib.legend.Legend at 0x7f5442f42c50>"
            ]
          },
          "metadata": {
            "tags": []
          },
          "execution_count": 12
        },
        {
          "output_type": "display_data",
          "data": {
            "image/png": "[encoded data removed]",
            "text/plain": [
              "<Figure size 432x288 with 1 Axes>"
            ]
          },
          "metadata": {
            "tags": [],
            "needs_background": "light"
          }
        }
      ]
    },
    {
      "cell_type": "markdown",
      "metadata": {
        "colab_type": "text",
        "id": "gMqIOge42NI7"
      },
      "source": [
        "## Part 2 - Unsupervised Learning: Kmeans\n",
        "\n",
        "<a id=\"kmeans\"></a>\n",
        "***\n",
        "\n",
        "In this part, you are required to build a Kmeans clustering for exploring the player segmentation. \n",
        "\n",
        "\n",
        "### 2.1 Data Preparation\n",
        "\n",
        "*Remind: You must only use **pyspark** to complete the following data processing and model building. Otherwise, you lose all marks.*"
      ]
    },
    {
      "cell_type": "markdown",
      "metadata": {
        "colab_type": "text",
        "id": "eHi1rU4p-6wK"
      },
      "source": [
        "\n",
        "****\n",
        "\n",
        "<div class=\"alert alert-block alert-info\">\n",
        "\n",
        "**Code**: \n",
        "    You will need to remove the Goal Keepers (Position = 'GK') and use the position attribute, ID attribute (for later processing) and skill-set attributes (Height(CM),\n",
        "Weight(KG),\n",
        "Crossing,\n",
        "Finishing,\n",
        "HeadingAccuracy,\n",
        "ShortPassing,\n",
        "Volleys,\n",
        "Dribbling,\n",
        "Curve,\n",
        "FKAccuracy,\n",
        "LongPassing,\n",
        "BallControl,\n",
        "Acceleration,\n",
        "SprintSpeed,\n",
        "Agility,\n",
        "Reactions,\n",
        "Balance,\n",
        "ShotPower,\n",
        "Jumping,\n",
        "Stamina,\n",
        "Strength,\n",
        "LongShots,\n",
        "Aggression,\n",
        "Interceptions,\n",
        "Positioning,\n",
        "Vision,\n",
        "Penalties,\n",
        "Composure,\n",
        "Marking,\n",
        "StandingTackle,\n",
        "SlidingTackle) \n",
        "\n",
        "</div>\n",
        "\n"
      ]
    },
    {
      "cell_type": "code",
      "metadata": {
        "colab_type": "code",
        "id": "X2LHjTMv3w_7",
        "outputId": "eb35a230-24ec-4a9b-b95a-181d2c73db13",
        "colab": {
          "base_uri": "https://localhost:8080/",
          "height": 479
        }
      },
      "source": [
        "#filter features\n",
        "df_filtered = df.filter(df.Position != \"GK\")\\\n",
        ".select(\"ID\", \"Position\",'Height(CM)', 'Weight(KG)', \n",
        "                      'Crossing', 'Finishing', 'HeadingAccuracy', \n",
        "                      'ShortPassing', 'Volleys', 'Dribbling', 'Curve',\n",
        "                      'FKAccuracy', 'LongPassing', 'BallControl', \n",
        "                      'Acceleration', 'SprintSpeed', 'Agility', \n",
        "                      'Reactions', 'Balance', 'ShotPower', 'Jumping', \n",
        "                      'Stamina', 'Strength', 'LongShots', 'Aggression', \n",
        "                      'Interceptions', 'Positioning', 'Vision', 'Penalties', \n",
        "                      'Composure', 'Marking', 'StandingTackle', 'SlidingTackle')\n",
        "df_filtered.show()"
      ],
      "execution_count": 0,
      "outputs": [
        {
          "output_type": "stream",
          "text": [
            "+------+--------+----------+----------+--------+---------+---------------+------------+-------+---------+-----+----------+-----------+-----------+------------+-----------+-------+---------+-------+---------+-------+-------+--------+---------+----------+-------------+-----------+------+---------+---------+-------+--------------+-------------+\n",
            "|    ID|Position|Height(CM)|Weight(KG)|Crossing|Finishing|HeadingAccuracy|ShortPassing|Volleys|Dribbling|Curve|FKAccuracy|LongPassing|BallControl|Acceleration|SprintSpeed|Agility|Reactions|Balance|ShotPower|Jumping|Stamina|Strength|LongShots|Aggression|Interceptions|Positioning|Vision|Penalties|Composure|Marking|StandingTackle|SlidingTackle|\n",
            "+------+--------+----------+----------+--------+---------+---------------+------------+-------+---------+-----+----------+-----------+-----------+------------+-----------+-------+---------+-------+---------+-------+-------+--------+---------+----------+-------------+-----------+------+---------+---------+-------+--------------+-------------+\n",
            "|158023|      RF|   173.736| 72.121128|      84|       95|             70|          90|     86|       97|   93|        94|         87|         96|          91|         86|     91|       95|     95|       85|     68|     72|      59|       94|        48|           22|         94|    94|       75|       96|     33|            28|           26|\n",
            "| 20801|      ST|   188.976| 83.007336|      84|       94|             89|          81|     87|       88|   81|        76|         77|         94|          89|         91|     87|       96|     70|       95|     95|     88|      79|       93|        63|           29|         95|    82|       85|       95|     28|            31|           23|\n",
            "|190871|      LW|   179.832|   68.0388|      79|       87|             62|          84|     84|       96|   88|        87|         78|         95|          94|         90|     96|       94|     84|       80|     61|     81|      49|       82|        56|           36|         89|    87|       81|       94|     27|            24|           33|\n",
            "|192985|     RCM|  155.7528| 69.853168|      93|       82|             55|          92|     82|       86|   85|        83|         91|         91|          78|         76|     79|       91|     77|       91|     63|     90|      75|       91|        76|           61|         87|    94|       79|       88|     68|            58|           51|\n",
            "|183277|      LF|   176.784| 73.935496|      81|       84|             61|          89|     80|       95|   83|        79|         83|         94|          94|         88|     95|       90|     94|       82|     56|     83|      66|       80|        54|           41|         87|    89|       86|       91|     34|            27|           22|\n",
            "|177003|     RCM|   176.784| 66.224432|      86|       72|             55|          93|     76|       90|   85|        78|         88|         93|          80|         72|     93|       90|     94|       79|     68|     89|      58|       82|        62|           83|         79|    92|       82|       84|     60|            76|           73|\n",
            "|176580|      RS|    182.88|  86.18248|      77|       93|             77|          82|     88|       87|   86|        84|         64|         90|          86|         75|     82|       92|     83|       86|     69|     90|      83|       85|        87|           41|         92|    84|       85|       85|     62|            45|           38|\n",
            "|155862|     RCB|    182.88| 82.100152|      66|       60|             91|          78|     66|       63|   74|        72|         77|         84|          76|         75|     78|       85|     66|       79|     93|     84|      83|       59|        88|           90|         60|    63|       75|       82|     87|            92|           91|\n",
            "|188545|      ST|    182.88| 79.832192|      62|       91|             85|          83|     89|       85|   77|        86|         65|         89|          77|         78|     78|       90|     78|       88|     84|     78|      84|       84|        80|           39|         91|    77|       88|       86|     34|            42|           19|\n",
            "|182521|     LCM|    182.88| 76.203456|      88|       76|             54|          92|     82|       81|   86|        84|         93|         90|          64|         62|     70|       89|     71|       87|     30|     75|      73|       92|        60|           82|         79|    86|       73|       85|     72|            79|           69|\n",
            "|182493|      CB|   188.976| 78.017824|      55|       42|             92|          79|     47|       53|   49|        51|         70|         76|          68|         68|     58|       85|     54|       67|     91|     66|      88|       43|        89|           88|         48|    52|       50|       82|     90|            89|           89|\n",
            "|168542|     LCM|   176.784| 67.131616|      84|       76|             54|          93|     82|       89|   82|        77|         87|         94|          70|         64|     92|       90|     90|       72|     64|     78|      52|       75|        57|           50|         89|    92|       75|       93|     59|            53|           29|\n",
            "|215914|     LDM|   170.688| 72.121128|      68|       65|             54|          86|     56|       79|   49|        49|         81|         80|          82|         78|     82|       93|     92|       71|     77|     96|      76|       69|        90|           92|         71|    79|       54|       85|     90|            91|           85|\n",
            "|211110|      LF|   155.448|  74.84268|      82|       84|             68|          87|     88|       92|   88|        88|         75|         92|          87|         83|     91|       86|     85|       82|     75|     80|      65|       88|        48|           32|         84|    87|       86|       84|     23|            20|           20|\n",
            "|202126|      ST|   188.976| 88.904032|      75|       94|             85|          80|     84|       80|   78|        68|         82|         84|          68|         72|     71|       91|     71|       88|     78|     89|      84|       85|        76|           35|         93|    80|       90|       89|     56|            36|           38|\n",
            "|194765|     CAM|   179.832| 73.028312|      82|       90|             84|          83|     87|       88|   84|        78|         76|         90|          88|         85|     90|       90|     80|       80|     90|     83|      62|       82|        69|           35|         91|    83|       79|       87|     59|            47|           48|\n",
            "|189511|     CDM|   188.976| 76.203456|      62|       67|             68|          89|     44|       80|   66|        68|         82|         88|          50|         52|     66|       87|     52|       61|     66|     86|      77|       54|        85|           87|         77|    87|       60|       90|     90|            86|           80|\n",
            "|179813|      LS|   185.928|  77.11064|      70|       89|             89|          78|     90|       80|   77|        76|         52|         82|          75|         76|     77|       91|     59|       87|     88|     92|      78|       79|        84|           48|         93|    77|       85|       82|     52|            45|           39|\n",
            "|153079|      ST|   176.784| 69.853168|      70|       93|             77|          81|     85|       89|   82|        73|         64|         89|          88|         80|     86|       90|     91|       88|     81|     76|      73|       83|        65|           24|         92|    83|       83|       90|     30|            20|           12|\n",
            "|138956|     LCB|   188.976| 84.821704|      58|       33|             83|          59|     45|       58|   60|        31|         59|         57|          63|         75|     54|       82|     55|       78|     89|     65|      89|       49|        92|           88|         28|    50|       50|       84|     93|            93|           90|\n",
            "+------+--------+----------+----------+--------+---------+---------------+------------+-------+---------+-----+----------+-----------+-----------+------------+-----------+-------+---------+-------+---------+-------+-------+--------+---------+----------+-------------+-----------+------+---------+---------+-------+--------------+-------------+\n",
            "only showing top 20 rows\n",
            "\n"
          ],
          "name": "stdout"
        }
      ]
    },
    {
      "cell_type": "markdown",
      "metadata": {
        "colab_type": "text",
        "id": "kVLBzBId9iCk"
      },
      "source": [
        "To make the later stage easier, we define the position group by using the position feature (attributes on Position).\n",
        "- DEF = [LB,LWB,RB,LCB,RCB,CB,RWB] ,\n",
        "- FWD = [RF,LF,LW,RS,RW,LS,CF,ST] ,\n",
        "- MID = [LCM,LM,RDM,CAM,RAM,RCM,CM,CDM,RM,LAM,LDM]\n",
        "\n",
        "****\n",
        "\n",
        "<div class=\"alert alert-block alert-info\">\n",
        "\n",
        "**Code**: \n",
        "    You are required to create a new column called Position_Group with only DEF/FWD/MID in the dataframe you created in previous question\n",
        "\n",
        "</div>\n",
        "\n",
        "</div>"
      ]
    },
    {
      "cell_type": "code",
      "metadata": {
        "colab_type": "code",
        "id": "X4N6edcq5kE_",
        "outputId": "606123cd-f67a-4f40-e715-86d26fd53412",
        "colab": {
          "base_uri": "https://localhost:8080/",
          "height": 479
        }
      },
      "source": [
        "from pyspark.sql.functions import when,col\n",
        "\n",
        "#create column \"Position_Group\" by condition\n",
        "df_kmeans = df_filtered.withColumn(\"Position_Group\", \n",
        "                                        when(col(\"Position\") == \"LB\" , \"DEF\")\\\n",
        "                                       .when(col(\"Position\") == \"LWB\", \"DEF\")\\\n",
        "                                       .when(col(\"Position\") == \"RB\" , \"DEF\")\\\n",
        "                                       .when(col(\"Position\") == \"LCB\", \"DEF\")\\\n",
        "                                       .when(col(\"Position\") == \"RCB\", \"DEF\")\\\n",
        "                                       .when(col(\"Position\") == \"CB\" , \"DEF\")\\\n",
        "                                       .when(col(\"Position\") == \"RWB\", \"DEF\")\\\n",
        "                                       .when(col(\"Position\") == \"RF\", \"FWD\")\\\n",
        "                                       .when(col(\"Position\") == \"LF\" , \"FWD\")\\\n",
        "                                       .when(col(\"Position\") == \"LW\", \"FWD\")\\\n",
        "                                       .when(col(\"Position\") == \"RS\", \"FWD\")\\\n",
        "                                       .when(col(\"Position\") == \"RW\" , \"FWD\")\\\n",
        "                                       .when(col(\"Position\") == \"LS\", \"FWD\")\\\n",
        "                                       .when(col(\"Position\") == \"CF\" , \"FWD\")\\\n",
        "                                       .when(col(\"Position\") == \"ST\", \"FWD\")\\\n",
        "                                       .otherwise(\"MID\"))\n",
        "df_kmeans.show()                                                              "
      ],
      "execution_count": 0,
      "outputs": [
        {
          "output_type": "stream",
          "text": [
            "+------+--------+----------+----------+--------+---------+---------------+------------+-------+---------+-----+----------+-----------+-----------+------------+-----------+-------+---------+-------+---------+-------+-------+--------+---------+----------+-------------+-----------+------+---------+---------+-------+--------------+-------------+--------------+\n",
            "|    ID|Position|Height(CM)|Weight(KG)|Crossing|Finishing|HeadingAccuracy|ShortPassing|Volleys|Dribbling|Curve|FKAccuracy|LongPassing|BallControl|Acceleration|SprintSpeed|Agility|Reactions|Balance|ShotPower|Jumping|Stamina|Strength|LongShots|Aggression|Interceptions|Positioning|Vision|Penalties|Composure|Marking|StandingTackle|SlidingTackle|Position_Group|\n",
            "+------+--------+----------+----------+--------+---------+---------------+------------+-------+---------+-----+----------+-----------+-----------+------------+-----------+-------+---------+-------+---------+-------+-------+--------+---------+----------+-------------+-----------+------+---------+---------+-------+--------------+-------------+--------------+\n",
            "|158023|      RF|   173.736| 72.121128|      84|       95|             70|          90|     86|       97|   93|        94|         87|         96|          91|         86|     91|       95|     95|       85|     68|     72|      59|       94|        48|           22|         94|    94|       75|       96|     33|            28|           26|           FWD|\n",
            "| 20801|      ST|   188.976| 83.007336|      84|       94|             89|          81|     87|       88|   81|        76|         77|         94|          89|         91|     87|       96|     70|       95|     95|     88|      79|       93|        63|           29|         95|    82|       85|       95|     28|            31|           23|           FWD|\n",
            "|190871|      LW|   179.832|   68.0388|      79|       87|             62|          84|     84|       96|   88|        87|         78|         95|          94|         90|     96|       94|     84|       80|     61|     81|      49|       82|        56|           36|         89|    87|       81|       94|     27|            24|           33|           FWD|\n",
            "|192985|     RCM|  155.7528| 69.853168|      93|       82|             55|          92|     82|       86|   85|        83|         91|         91|          78|         76|     79|       91|     77|       91|     63|     90|      75|       91|        76|           61|         87|    94|       79|       88|     68|            58|           51|           MID|\n",
            "|183277|      LF|   176.784| 73.935496|      81|       84|             61|          89|     80|       95|   83|        79|         83|         94|          94|         88|     95|       90|     94|       82|     56|     83|      66|       80|        54|           41|         87|    89|       86|       91|     34|            27|           22|           FWD|\n",
            "|177003|     RCM|   176.784| 66.224432|      86|       72|             55|          93|     76|       90|   85|        78|         88|         93|          80|         72|     93|       90|     94|       79|     68|     89|      58|       82|        62|           83|         79|    92|       82|       84|     60|            76|           73|           MID|\n",
            "|176580|      RS|    182.88|  86.18248|      77|       93|             77|          82|     88|       87|   86|        84|         64|         90|          86|         75|     82|       92|     83|       86|     69|     90|      83|       85|        87|           41|         92|    84|       85|       85|     62|            45|           38|           FWD|\n",
            "|155862|     RCB|    182.88| 82.100152|      66|       60|             91|          78|     66|       63|   74|        72|         77|         84|          76|         75|     78|       85|     66|       79|     93|     84|      83|       59|        88|           90|         60|    63|       75|       82|     87|            92|           91|           DEF|\n",
            "|188545|      ST|    182.88| 79.832192|      62|       91|             85|          83|     89|       85|   77|        86|         65|         89|          77|         78|     78|       90|     78|       88|     84|     78|      84|       84|        80|           39|         91|    77|       88|       86|     34|            42|           19|           FWD|\n",
            "|182521|     LCM|    182.88| 76.203456|      88|       76|             54|          92|     82|       81|   86|        84|         93|         90|          64|         62|     70|       89|     71|       87|     30|     75|      73|       92|        60|           82|         79|    86|       73|       85|     72|            79|           69|           MID|\n",
            "|182493|      CB|   188.976| 78.017824|      55|       42|             92|          79|     47|       53|   49|        51|         70|         76|          68|         68|     58|       85|     54|       67|     91|     66|      88|       43|        89|           88|         48|    52|       50|       82|     90|            89|           89|           DEF|\n",
            "|168542|     LCM|   176.784| 67.131616|      84|       76|             54|          93|     82|       89|   82|        77|         87|         94|          70|         64|     92|       90|     90|       72|     64|     78|      52|       75|        57|           50|         89|    92|       75|       93|     59|            53|           29|           MID|\n",
            "|215914|     LDM|   170.688| 72.121128|      68|       65|             54|          86|     56|       79|   49|        49|         81|         80|          82|         78|     82|       93|     92|       71|     77|     96|      76|       69|        90|           92|         71|    79|       54|       85|     90|            91|           85|           MID|\n",
            "|211110|      LF|   155.448|  74.84268|      82|       84|             68|          87|     88|       92|   88|        88|         75|         92|          87|         83|     91|       86|     85|       82|     75|     80|      65|       88|        48|           32|         84|    87|       86|       84|     23|            20|           20|           FWD|\n",
            "|202126|      ST|   188.976| 88.904032|      75|       94|             85|          80|     84|       80|   78|        68|         82|         84|          68|         72|     71|       91|     71|       88|     78|     89|      84|       85|        76|           35|         93|    80|       90|       89|     56|            36|           38|           FWD|\n",
            "|194765|     CAM|   179.832| 73.028312|      82|       90|             84|          83|     87|       88|   84|        78|         76|         90|          88|         85|     90|       90|     80|       80|     90|     83|      62|       82|        69|           35|         91|    83|       79|       87|     59|            47|           48|           MID|\n",
            "|189511|     CDM|   188.976| 76.203456|      62|       67|             68|          89|     44|       80|   66|        68|         82|         88|          50|         52|     66|       87|     52|       61|     66|     86|      77|       54|        85|           87|         77|    87|       60|       90|     90|            86|           80|           MID|\n",
            "|179813|      LS|   185.928|  77.11064|      70|       89|             89|          78|     90|       80|   77|        76|         52|         82|          75|         76|     77|       91|     59|       87|     88|     92|      78|       79|        84|           48|         93|    77|       85|       82|     52|            45|           39|           FWD|\n",
            "|153079|      ST|   176.784| 69.853168|      70|       93|             77|          81|     85|       89|   82|        73|         64|         89|          88|         80|     86|       90|     91|       88|     81|     76|      73|       83|        65|           24|         92|    83|       83|       90|     30|            20|           12|           FWD|\n",
            "|138956|     LCB|   188.976| 84.821704|      58|       33|             83|          59|     45|       58|   60|        31|         59|         57|          63|         75|     54|       82|     55|       78|     89|     65|      89|       49|        92|           88|         28|    50|       50|       84|     93|            93|           90|           DEF|\n",
            "+------+--------+----------+----------+--------+---------+---------------+------------+-------+---------+-----+----------+-----------+-----------+------------+-----------+-------+---------+-------+---------+-------+-------+--------+---------+----------+-------------+-----------+------+---------+---------+-------+--------------+-------------+--------------+\n",
            "only showing top 20 rows\n",
            "\n"
          ],
          "name": "stdout"
        }
      ]
    },
    {
      "cell_type": "code",
      "metadata": {
        "id": "Je7ePW9nLSVs",
        "colab_type": "code",
        "outputId": "c9eed2ab-98fa-465e-8048-a0a9c0e1216f",
        "colab": {
          "base_uri": "https://localhost:8080/",
          "height": 54
        }
      },
      "source": [
        "#change datatype for further requirements\n",
        "from pyspark.sql.types import DoubleType\n",
        "df_kmeans_new = df_kmeans.withColumn(\"Height(CM)\",col(\"Height(CM)\").cast(DoubleType()))\\\n",
        "    .withColumn(\"Weight(KG)\",col(\"Weight(KG)\").cast(DoubleType()))\\\n",
        "    .withColumn(\"Crossing\",col(\"Crossing\").cast(DoubleType()))\\\n",
        "    .withColumn(\"Finishing\",col(\"Finishing\").cast(DoubleType()))\\\n",
        "    .withColumn(\"HeadingAccuracy\",col(\"HeadingAccuracy\").cast(DoubleType()))\\\n",
        "    .withColumn(\"ShortPassing\",col(\"ShortPassing\").cast(DoubleType()))\\\n",
        "    .withColumn(\"Volleys\",col(\"Volleys\").cast(DoubleType()))\\\n",
        "    .withColumn(\"Dribbling\",col(\"Dribbling\").cast(DoubleType()))\\\n",
        "    .withColumn(\"Curve\",col(\"Curve\").cast(DoubleType()))\\\n",
        "    .withColumn(\"FKAccuracy\",col(\"FKAccuracy\").cast(DoubleType()))\\\n",
        "    .withColumn(\"LongPassing\",col(\"LongPassing\").cast(DoubleType()))\\\n",
        "    .withColumn(\"BallControl\",col(\"BallControl\").cast(DoubleType()))\\\n",
        "    .withColumn(\"Acceleration\",col(\"Acceleration\").cast(DoubleType()))\\\n",
        "    .withColumn(\"SprintSpeed\",col(\"SprintSpeed\").cast(DoubleType()))\\\n",
        "    .withColumn(\"Agility\",col(\"Agility\").cast(DoubleType()))\\\n",
        "    .withColumn(\"Reactions\",col(\"Reactions\").cast(DoubleType()))\\\n",
        "    .withColumn(\"Balance\",col(\"Balance\").cast(DoubleType()))\\\n",
        "    .withColumn(\"ShotPower\",col(\"ShotPower\").cast(DoubleType()))\\\n",
        "    .withColumn(\"Jumping\",col(\"Jumping\").cast(DoubleType()))\\\n",
        "    .withColumn(\"Stamina\",col(\"Stamina\").cast(DoubleType()))\\\n",
        "    .withColumn(\"Strength\",col(\"Strength\").cast(DoubleType()))\\\n",
        "    .withColumn(\"LongShots\",col(\"LongShots\").cast(DoubleType()))\\\n",
        "    .withColumn(\"Aggression\",col(\"Aggression\").cast(DoubleType()))\\\n",
        "    .withColumn(\"Interceptions\",col(\"Interceptions\").cast(DoubleType()))\\\n",
        "    .withColumn(\"Positioning\",col(\"Positioning\").cast(DoubleType()))\\\n",
        "    .withColumn(\"Vision\",col(\"Vision\").cast(DoubleType()))\\\n",
        "    .withColumn(\"Penalties\",col(\"Penalties\").cast(DoubleType()))\\\n",
        "    .withColumn(\"Composure\",col(\"Composure\").cast(DoubleType()))\\\n",
        "    .withColumn(\"Marking\",col(\"Marking\").cast(DoubleType()))\\\n",
        "    .withColumn(\"StandingTackle\",col(\"StandingTackle\").cast(DoubleType()))\\\n",
        "    .withColumn(\"SlidingTackle\",col(\"SlidingTackle\").cast(DoubleType()))\\\n",
        "\n",
        "df_kmeans_new"
      ],
      "execution_count": 0,
      "outputs": [
        {
          "output_type": "execute_result",
          "data": {
            "text/plain": [
              "DataFrame[ID: string, Position: string, Height(CM): double, Weight(KG): double, Crossing: double, Finishing: double, HeadingAccuracy: double, ShortPassing: double, Volleys: double, Dribbling: double, Curve: double, FKAccuracy: double, LongPassing: double, BallControl: double, Acceleration: double, SprintSpeed: double, Agility: double, Reactions: double, Balance: double, ShotPower: double, Jumping: double, Stamina: double, Strength: double, LongShots: double, Aggression: double, Interceptions: double, Positioning: double, Vision: double, Penalties: double, Composure: double, Marking: double, StandingTackle: double, SlidingTackle: double, Position_Group: string]"
            ]
          },
          "metadata": {
            "tags": []
          },
          "execution_count": 15
        }
      ]
    },
    {
      "cell_type": "markdown",
      "metadata": {
        "colab_type": "text",
        "id": "R-NyFp7IBtGZ"
      },
      "source": [
        "Now, we remove the Position_Group and Position to create the feature for Kmeans\n",
        "\n",
        "\n"
      ]
    },
    {
      "cell_type": "code",
      "metadata": {
        "colab_type": "code",
        "id": "2x_o_w54B-mN",
        "outputId": "7f6e1357-3411-49b0-efdb-8513426e54fd",
        "colab": {
          "base_uri": "https://localhost:8080/",
          "height": 170
        }
      },
      "source": [
        "from pyspark.ml.clustering import KMeans\n",
        "from pyspark.ml.feature import VectorAssembler\n",
        "\n",
        "FEATURES_COL = ['Height(CM)', 'Weight(KG)', \n",
        "                      'Crossing', 'Finishing', 'HeadingAccuracy', \n",
        "                      'ShortPassing', 'Volleys', 'Dribbling', 'Curve',\n",
        "                      'FKAccuracy', 'LongPassing', 'BallControl', \n",
        "                      'Acceleration', 'SprintSpeed', 'Agility', \n",
        "                      'Reactions', 'Balance', 'ShotPower', 'Jumping', \n",
        "                      'Stamina', 'Strength', 'LongShots', 'Aggression', \n",
        "                      'Interceptions', 'Positioning', 'Vision', 'Penalties', \n",
        "                      'Composure', 'Marking', 'StandingTackle', 'SlidingTackle']\n",
        "#create and transform vector for kmeans \n",
        "vecAssembler = VectorAssembler(inputCols=FEATURES_COL, outputCol=\"features\")\n",
        "df_kmeans_ = vecAssembler.transform(df_kmeans_new).select('ID','features')\n",
        "df_kmeans_.show(3)"
      ],
      "execution_count": 0,
      "outputs": [
        {
          "output_type": "stream",
          "text": [
            "+------+--------------------+\n",
            "|    ID|            features|\n",
            "+------+--------------------+\n",
            "|158023|[173.736,72.12112...|\n",
            "| 20801|[188.976,83.00733...|\n",
            "|190871|[179.832,68.0388,...|\n",
            "+------+--------------------+\n",
            "only showing top 3 rows\n",
            "\n"
          ],
          "name": "stdout"
        }
      ]
    },
    {
      "cell_type": "markdown",
      "metadata": {
        "colab_type": "text",
        "id": "UniVGeYIDa_k"
      },
      "source": [
        "Now in order to evaluate your Kmeans Model, please plot the elbow plot\n",
        "\n",
        "\n",
        "<div class=\"alert alert-block alert-info\">\n",
        "\n",
        "**Code**: \n",
        "    You are required to plot the elbow plot, with a varying K from 2 to 20.\n",
        "\n",
        "<div class=\"alert alert-block alert-warning\">\n",
        "    \n",
        "**Report**: \n",
        "    **2.1** In your report with proper section title  '2.1', Please include the elbow plot. \n",
        "\n",
        "</div>\n",
        "</div>\n",
        "\n"
      ]
    },
    {
      "cell_type": "code",
      "metadata": {
        "colab_type": "code",
        "id": "UDia7JYyDLhg",
        "colab": {}
      },
      "source": [
        "#calculate cost equation for each 'k' means\n",
        "cost = np.zeros(20)\n",
        "for k in range(2,20):\n",
        "    kmeans = KMeans().setK(k).setSeed(1).setFeaturesCol(\"features\")\n",
        "    model = kmeans.fit(df_kmeans_)\n",
        "    cost[k] = model.computeCost(df_kmeans_) "
      ],
      "execution_count": 0,
      "outputs": []
    },
    {
      "cell_type": "code",
      "metadata": {
        "colab_type": "code",
        "id": "Mr-bSnj5EA1l",
        "outputId": "31a35d8d-9848-4a3f-e7b3-2250436d5c44",
        "colab": {
          "base_uri": "https://localhost:8080/",
          "height": 416
        }
      },
      "source": [
        "#plot costs\n",
        "x = np.arange(20)\n",
        "fig, ax = plt.subplots(1,1, figsize=(8,6))\n",
        "ax.set_xlabel('k')\n",
        "ax.set_ylabel('cost')\n",
        "plt.xticks(x)\n",
        "plt.plot(cost)"
      ],
      "execution_count": 0,
      "outputs": [
        {
          "output_type": "execute_result",
          "data": {
            "text/plain": [
              "[<matplotlib.lines.Line2D at 0x7f4af572c9e8>]"
            ]
          },
          "metadata": {
            "tags": []
          },
          "execution_count": 15
        },
        {
          "output_type": "display_data",
          "data": {
            "image/png": "[encoded data removed]",
            "text/plain": [
              "<Figure size 576x432 with 1 Axes>"
            ]
          },
          "metadata": {
            "tags": [],
            "needs_background": "light"
          }
        }
      ]
    },
    {
      "cell_type": "markdown",
      "metadata": {
        "colab_type": "text",
        "id": "XupecQFHE5Za"
      },
      "source": [
        "\n",
        "### 2.2 K-Means\n",
        "\n",
        "Could you tell out the optimized K value? \n",
        "\n",
        "\n",
        "\n",
        "\n",
        "****\n",
        "\n",
        "<div class=\"alert alert-block alert-info\">\n",
        "\n",
        "**Code**: \n",
        "    You are required to choose a K value as 8 and then summarize each cluster with the count on each Position_Group.\n",
        "\n",
        "<div class=\"alert alert-block alert-warning\">\n",
        "    \n",
        "**Report**: \n",
        "    **2.2** In your report with proper section title  '2.2', Please summarize the following:     \n",
        "    <ol>\n",
        "        <li> What you could find from those clusters (by cluster central point)? </li>\n",
        "        <li> Is there relationship between Position_Group and a particular Cluster?</li>\n",
        "    </ol>\n",
        "\n",
        "</div>\n",
        "</div>\n",
        "\n",
        "\n"
      ]
    },
    {
      "cell_type": "code",
      "metadata": {
        "colab_type": "code",
        "id": "LxSOxcowE6vB",
        "outputId": "0903752e-f235-4a63-d0a0-2cb4dc84e073",
        "colab": {
          "base_uri": "https://localhost:8080/",
          "height": 289
        }
      },
      "source": [
        "#create kmeans k=8\n",
        "from pyspark.ml.clustering import KMeans, KMeansModel\n",
        "k = 8\n",
        "kmeans = KMeans().setK(k).setSeed(1).setFeaturesCol(\"features\")\n",
        "model = kmeans.fit(df_kmeans_)\n",
        "df_kmeans_pred = model.transform(df_kmeans_)\n",
        "df_kmeans_pred.show(10)"
      ],
      "execution_count": 0,
      "outputs": [
        {
          "output_type": "stream",
          "text": [
            "+------+--------------------+----------+\n",
            "|    ID|            features|prediction|\n",
            "+------+--------------------+----------+\n",
            "|158023|[173.736,72.12112...|         2|\n",
            "| 20801|[188.976,83.00733...|         2|\n",
            "|190871|[179.832,68.0388,...|         2|\n",
            "|192985|[155.7528,69.8531...|         4|\n",
            "|183277|[176.784,73.93549...|         2|\n",
            "|177003|[176.784,66.22443...|         4|\n",
            "|176580|[182.88,86.18248,...|         2|\n",
            "|155862|[182.88,82.100152...|         4|\n",
            "|188545|[182.88,79.832192...|         2|\n",
            "|182521|[182.88,76.203456...|         4|\n",
            "+------+--------------------+----------+\n",
            "only showing top 10 rows\n",
            "\n"
          ],
          "name": "stdout"
        }
      ]
    },
    {
      "cell_type": "code",
      "metadata": {
        "id": "RB3tDNa-RQxB",
        "colab_type": "code",
        "outputId": "327fd61e-b9b6-4b1e-a864-2ad0643eae13",
        "colab": {
          "base_uri": "https://localhost:8080/",
          "height": 986
        }
      },
      "source": [
        "#calculate centroids\n",
        "centers = model.clusterCenters()\n",
        "print(\"Cluster Centers: \")\n",
        "for center in centers:\n",
        "    print(center)"
      ],
      "execution_count": 0,
      "outputs": [
        {
          "output_type": "stream",
          "text": [
            "Cluster Centers: \n",
            "[177.3317464   76.31794486  58.41639945  44.02061383  62.79111315\n",
            "  67.3220339   42.5387082   61.02611086  52.17911131  46.79294549\n",
            "  63.5510765   65.5758131   65.25240495  66.06596427  64.62757673\n",
            "  66.20568026  64.10581768  62.28263857  70.52038479  73.82638571\n",
            "  72.67384333  52.59688502  71.43426477  67.65048099  53.27072836\n",
            "  57.47457627  48.97938617  64.57627119  66.67155291  68.96472744\n",
            "  66.88914338]\n",
            "[187.68026262  81.70680941  39.8684377   30.21252372  68.72675522\n",
            "  59.71600253  31.19354839  44.54332701  34.72485769  33.42631246\n",
            "  54.99114485  55.46110057  53.19481341  55.6059456   50.15876028\n",
            "  62.97975965  50.6116382   51.14231499  68.34977862  64.29095509\n",
            "  79.52941176  34.24351676  70.56799494  67.06388362  33.600253\n",
            "  41.73561037  41.05566097  61.12903226  67.29411765  69.6116382\n",
            "  66.76533839]\n",
            "[172.46617578  73.21508518  65.18944637  68.70069204  57.79541522\n",
            "  69.00043253  64.56055363  73.22923875  67.01859862  61.3399654\n",
            "  60.86245675  72.86548443  76.23096886  75.48442907  76.85856401\n",
            "  68.82093426  73.3416955   71.57871972  66.4217128   69.08953287\n",
            "  63.61937716  67.48788927  56.35856401  35.85250865  70.45458478\n",
            "  67.55363322  65.27032872  68.70804498  36.98140138  34.27465398\n",
            "  30.68425606]\n",
            "[179.48039466  76.0082903   36.06083086  24.84124629  55.70029674\n",
            "  47.25816024  27.14169139  39.07121662  29.75296736  28.67655786\n",
            "  39.29896142  45.00667656  60.3189911   60.53189911  53.30267062\n",
            "  53.134273    59.04154303  38.19065282  67.60089021  60.8805638\n",
            "  67.21216617  25.61053412  57.08234421  56.22922849  31.92062315\n",
            "  34.70697329  36.51632047  47.67507418  57.19139466  60.84718101\n",
            "  58.89836795]\n",
            "[171.83121978  73.63665232  67.45570663  58.56901525  58.09394314\n",
            "  72.50432633  57.66131026  70.06098063  66.77997528  62.4223321\n",
            "  69.03461063  72.1223733   69.90688092  69.05644829  71.96744953\n",
            "  69.5434693   71.48413679  70.77832715  67.38648537  75.37206428\n",
            "  67.24639473  66.29377833  68.8170581   66.05274001  65.21137206\n",
            "  68.49938195  59.71693449  69.01771735  63.46147507  66.48413679\n",
            "  63.407911  ]\n",
            "[170.91016533  69.059326    55.29234568  55.09580247  43.15901235\n",
            "  60.04740741  48.40049383  64.16888889  52.72395062  46.47061728\n",
            "  53.46666667  62.81580247  74.15802469  73.06765432  72.88296296\n",
            "  54.81975309  74.18222222  58.15407407  57.08493827  59.05530864\n",
            "  50.88        51.04098765  42.44888889  30.00395062  56.25580247\n",
            "  56.67012346  52.63111111  55.06469136  35.40345679  33.6108642\n",
            "  32.67061728]\n",
            "[179.04405592  77.27376948  41.5253664   64.62852311  62.52367531\n",
            "  54.67080045  54.12401353  60.1572717   45.93179256  38.34892897\n",
            "  40.62514092  61.22886133  67.10372041  68.4475761   63.3934611\n",
            "  58.98816234  61.21364149  63.87373168  66.86583991  62.50281849\n",
            "  69.78015784  56.90078918  48.6854566   22.34441939  62.61555806\n",
            "  51.56313416  61.20744081  56.67080045  27.09244645  21.86414882\n",
            "  19.75479143]\n",
            "[170.42364272  71.65120522  54.40978964  39.52872168  51.07605178\n",
            "  60.99029126  37.06432039  58.46197411  45.36407767  40.24959547\n",
            "  55.51173139  59.90978964  69.55987055  69.1565534   67.27548544\n",
            "  58.08859223  69.60679612  50.26456311  64.68608414  67.79652104\n",
            "  60.88754045  42.32686084  59.25444984  56.58576052  50.67435275\n",
            "  51.5262945   43.85234628  53.67677994  56.21480583  59.43891586\n",
            "  57.93082524]\n"
          ],
          "name": "stdout"
        }
      ]
    },
    {
      "cell_type": "code",
      "metadata": {
        "id": "-MiUgR6lLjmp",
        "colab_type": "code",
        "outputId": "9ce3585e-7554-4d45-e329-522f15098003",
        "colab": {
          "base_uri": "https://localhost:8080/",
          "height": 238
        }
      },
      "source": [
        "#count prediction cases \n",
        "df_kmeans_pred.groupBy(\"prediction\")\\\n",
        "              .count()\\\n",
        "              .orderBy(\"prediction\", descending=False)\\\n",
        "              .show()"
      ],
      "execution_count": 0,
      "outputs": [
        {
          "output_type": "stream",
          "text": [
            "+----------+-----+\n",
            "|prediction|count|\n",
            "+----------+-----+\n",
            "|         0| 2208|\n",
            "|         1| 1581|\n",
            "|         2| 2311|\n",
            "|         3| 1344|\n",
            "|         4| 2390|\n",
            "|         5| 2029|\n",
            "|         6| 1783|\n",
            "|         7| 2476|\n",
            "+----------+-----+\n",
            "\n"
          ],
          "name": "stdout"
        }
      ]
    },
    {
      "cell_type": "code",
      "metadata": {
        "id": "DC1A_GCVLmxO",
        "colab_type": "code",
        "colab": {}
      },
      "source": [
        "#join requirement\n",
        "spark.conf.set(\"spark.sql.crossJoin.enabled\", \"true\")"
      ],
      "execution_count": 0,
      "outputs": []
    },
    {
      "cell_type": "code",
      "metadata": {
        "colab_type": "code",
        "id": "AkWZ5-6oFlpp",
        "colab": {}
      },
      "source": [
        "#create dataframe for classification (next task)\n",
        "df_kmeans_pred = df_kmeans_pred.drop(\"features\")\n",
        "df_kmeans_pred_ = df_kmeans_new.join(df_kmeans_pred, df_kmeans_new.ID ==  df_kmeans_pred.ID)"
      ],
      "execution_count": 0,
      "outputs": []
    },
    {
      "cell_type": "code",
      "metadata": {
        "id": "kSVf1hOuAOJY",
        "colab_type": "code",
        "outputId": "9611ae8b-edc0-4731-88e0-9184557d8df0",
        "colab": {
          "base_uri": "https://localhost:8080/",
          "height": 459
        }
      },
      "source": [
        "#check prediction cases per Position_Group\n",
        "df_kmeans_pred_.groupBy(\"prediction\", \"Position_Group\")\\\n",
        "               .count().orderBy(\"prediction\", descending=False)\\\n",
        "               .show()"
      ],
      "execution_count": 0,
      "outputs": [
        {
          "output_type": "stream",
          "text": [
            "+----------+--------------+-----+\n",
            "|prediction|Position_Group|count|\n",
            "+----------+--------------+-----+\n",
            "|         0|           FWD|   11|\n",
            "|         0|           MID|  967|\n",
            "|         0|           DEF| 1230|\n",
            "|         1|           FWD|    2|\n",
            "|         1|           MID|  117|\n",
            "|         1|           DEF| 1462|\n",
            "|         2|           DEF|    4|\n",
            "|         2|           FWD| 1112|\n",
            "|         2|           MID| 1195|\n",
            "|         3|           MID|   77|\n",
            "|         3|           FWD|    1|\n",
            "|         3|           DEF| 1266|\n",
            "|         4|           DEF|  599|\n",
            "|         4|           MID| 1720|\n",
            "|         4|           FWD|   71|\n",
            "|         5|           DEF|    8|\n",
            "|         5|           MID| 1486|\n",
            "|         5|           FWD|  535|\n",
            "|         6|           FWD| 1648|\n",
            "|         6|           MID|  135|\n",
            "+----------+--------------+-----+\n",
            "only showing top 20 rows\n",
            "\n"
          ],
          "name": "stdout"
        }
      ]
    },
    {
      "cell_type": "code",
      "metadata": {
        "id": "LkzMH1OUPVBg",
        "colab_type": "code",
        "outputId": "e677d500-8567-4742-8a1f-62eb0f5a46f3",
        "colab": {
          "base_uri": "https://localhost:8080/",
          "height": 479
        }
      },
      "source": [
        "df_kmeans_pred_.show()"
      ],
      "execution_count": 0,
      "outputs": [
        {
          "output_type": "stream",
          "text": [
            "+------+--------+----------+----------+--------+---------+---------------+------------+-------+---------+-----+----------+-----------+-----------+------------+-----------+-------+---------+-------+---------+-------+-------+--------+---------+----------+-------------+-----------+------+---------+---------+-------+--------------+-------------+--------------+------+----------+\n",
            "|    ID|Position|Height(CM)|Weight(KG)|Crossing|Finishing|HeadingAccuracy|ShortPassing|Volleys|Dribbling|Curve|FKAccuracy|LongPassing|BallControl|Acceleration|SprintSpeed|Agility|Reactions|Balance|ShotPower|Jumping|Stamina|Strength|LongShots|Aggression|Interceptions|Positioning|Vision|Penalties|Composure|Marking|StandingTackle|SlidingTackle|Position_Group|    ID|prediction|\n",
            "+------+--------+----------+----------+--------+---------+---------------+------------+-------+---------+-----+----------+-----------+-----------+------------+-----------+-------+---------+-------+---------+-------+-------+--------+---------+----------+-------------+-----------+------+---------+---------+-------+--------------+-------------+--------------+------+----------+\n",
            "|158023|      RF|   173.736| 72.121128|    84.0|     95.0|           70.0|        90.0|   86.0|     97.0| 93.0|      94.0|       87.0|       96.0|        91.0|       86.0|   91.0|     95.0|   95.0|     85.0|   68.0|   72.0|    59.0|     94.0|      48.0|         22.0|       94.0|  94.0|     75.0|     96.0|   33.0|          28.0|         26.0|           FWD|158023|         2|\n",
            "| 20801|      ST|   188.976| 83.007336|    84.0|     94.0|           89.0|        81.0|   87.0|     88.0| 81.0|      76.0|       77.0|       94.0|        89.0|       91.0|   87.0|     96.0|   70.0|     95.0|   95.0|   88.0|    79.0|     93.0|      63.0|         29.0|       95.0|  82.0|     85.0|     95.0|   28.0|          31.0|         23.0|           FWD| 20801|         2|\n",
            "|190871|      LW|   179.832|   68.0388|    79.0|     87.0|           62.0|        84.0|   84.0|     96.0| 88.0|      87.0|       78.0|       95.0|        94.0|       90.0|   96.0|     94.0|   84.0|     80.0|   61.0|   81.0|    49.0|     82.0|      56.0|         36.0|       89.0|  87.0|     81.0|     94.0|   27.0|          24.0|         33.0|           FWD|190871|         2|\n",
            "|192985|     RCM|  155.7528| 69.853168|    93.0|     82.0|           55.0|        92.0|   82.0|     86.0| 85.0|      83.0|       91.0|       91.0|        78.0|       76.0|   79.0|     91.0|   77.0|     91.0|   63.0|   90.0|    75.0|     91.0|      76.0|         61.0|       87.0|  94.0|     79.0|     88.0|   68.0|          58.0|         51.0|           MID|192985|         4|\n",
            "|183277|      LF|   176.784| 73.935496|    81.0|     84.0|           61.0|        89.0|   80.0|     95.0| 83.0|      79.0|       83.0|       94.0|        94.0|       88.0|   95.0|     90.0|   94.0|     82.0|   56.0|   83.0|    66.0|     80.0|      54.0|         41.0|       87.0|  89.0|     86.0|     91.0|   34.0|          27.0|         22.0|           FWD|183277|         2|\n",
            "|177003|     RCM|   176.784| 66.224432|    86.0|     72.0|           55.0|        93.0|   76.0|     90.0| 85.0|      78.0|       88.0|       93.0|        80.0|       72.0|   93.0|     90.0|   94.0|     79.0|   68.0|   89.0|    58.0|     82.0|      62.0|         83.0|       79.0|  92.0|     82.0|     84.0|   60.0|          76.0|         73.0|           MID|177003|         4|\n",
            "|176580|      RS|    182.88|  86.18248|    77.0|     93.0|           77.0|        82.0|   88.0|     87.0| 86.0|      84.0|       64.0|       90.0|        86.0|       75.0|   82.0|     92.0|   83.0|     86.0|   69.0|   90.0|    83.0|     85.0|      87.0|         41.0|       92.0|  84.0|     85.0|     85.0|   62.0|          45.0|         38.0|           FWD|176580|         2|\n",
            "|155862|     RCB|    182.88| 82.100152|    66.0|     60.0|           91.0|        78.0|   66.0|     63.0| 74.0|      72.0|       77.0|       84.0|        76.0|       75.0|   78.0|     85.0|   66.0|     79.0|   93.0|   84.0|    83.0|     59.0|      88.0|         90.0|       60.0|  63.0|     75.0|     82.0|   87.0|          92.0|         91.0|           DEF|155862|         4|\n",
            "|188545|      ST|    182.88| 79.832192|    62.0|     91.0|           85.0|        83.0|   89.0|     85.0| 77.0|      86.0|       65.0|       89.0|        77.0|       78.0|   78.0|     90.0|   78.0|     88.0|   84.0|   78.0|    84.0|     84.0|      80.0|         39.0|       91.0|  77.0|     88.0|     86.0|   34.0|          42.0|         19.0|           FWD|188545|         2|\n",
            "|182521|     LCM|    182.88| 76.203456|    88.0|     76.0|           54.0|        92.0|   82.0|     81.0| 86.0|      84.0|       93.0|       90.0|        64.0|       62.0|   70.0|     89.0|   71.0|     87.0|   30.0|   75.0|    73.0|     92.0|      60.0|         82.0|       79.0|  86.0|     73.0|     85.0|   72.0|          79.0|         69.0|           MID|182521|         4|\n",
            "|182493|      CB|   188.976| 78.017824|    55.0|     42.0|           92.0|        79.0|   47.0|     53.0| 49.0|      51.0|       70.0|       76.0|        68.0|       68.0|   58.0|     85.0|   54.0|     67.0|   91.0|   66.0|    88.0|     43.0|      89.0|         88.0|       48.0|  52.0|     50.0|     82.0|   90.0|          89.0|         89.0|           DEF|182493|         0|\n",
            "|168542|     LCM|   176.784| 67.131616|    84.0|     76.0|           54.0|        93.0|   82.0|     89.0| 82.0|      77.0|       87.0|       94.0|        70.0|       64.0|   92.0|     90.0|   90.0|     72.0|   64.0|   78.0|    52.0|     75.0|      57.0|         50.0|       89.0|  92.0|     75.0|     93.0|   59.0|          53.0|         29.0|           MID|168542|         2|\n",
            "|215914|     LDM|   170.688| 72.121128|    68.0|     65.0|           54.0|        86.0|   56.0|     79.0| 49.0|      49.0|       81.0|       80.0|        82.0|       78.0|   82.0|     93.0|   92.0|     71.0|   77.0|   96.0|    76.0|     69.0|      90.0|         92.0|       71.0|  79.0|     54.0|     85.0|   90.0|          91.0|         85.0|           MID|215914|         4|\n",
            "|211110|      LF|   155.448|  74.84268|    82.0|     84.0|           68.0|        87.0|   88.0|     92.0| 88.0|      88.0|       75.0|       92.0|        87.0|       83.0|   91.0|     86.0|   85.0|     82.0|   75.0|   80.0|    65.0|     88.0|      48.0|         32.0|       84.0|  87.0|     86.0|     84.0|   23.0|          20.0|         20.0|           FWD|211110|         2|\n",
            "|202126|      ST|   188.976| 88.904032|    75.0|     94.0|           85.0|        80.0|   84.0|     80.0| 78.0|      68.0|       82.0|       84.0|        68.0|       72.0|   71.0|     91.0|   71.0|     88.0|   78.0|   89.0|    84.0|     85.0|      76.0|         35.0|       93.0|  80.0|     90.0|     89.0|   56.0|          36.0|         38.0|           FWD|202126|         2|\n",
            "|194765|     CAM|   179.832| 73.028312|    82.0|     90.0|           84.0|        83.0|   87.0|     88.0| 84.0|      78.0|       76.0|       90.0|        88.0|       85.0|   90.0|     90.0|   80.0|     80.0|   90.0|   83.0|    62.0|     82.0|      69.0|         35.0|       91.0|  83.0|     79.0|     87.0|   59.0|          47.0|         48.0|           MID|194765|         2|\n",
            "|189511|     CDM|   188.976| 76.203456|    62.0|     67.0|           68.0|        89.0|   44.0|     80.0| 66.0|      68.0|       82.0|       88.0|        50.0|       52.0|   66.0|     87.0|   52.0|     61.0|   66.0|   86.0|    77.0|     54.0|      85.0|         87.0|       77.0|  87.0|     60.0|     90.0|   90.0|          86.0|         80.0|           MID|189511|         4|\n",
            "|179813|      LS|   185.928|  77.11064|    70.0|     89.0|           89.0|        78.0|   90.0|     80.0| 77.0|      76.0|       52.0|       82.0|        75.0|       76.0|   77.0|     91.0|   59.0|     87.0|   88.0|   92.0|    78.0|     79.0|      84.0|         48.0|       93.0|  77.0|     85.0|     82.0|   52.0|          45.0|         39.0|           FWD|179813|         2|\n",
            "|153079|      ST|   176.784| 69.853168|    70.0|     93.0|           77.0|        81.0|   85.0|     89.0| 82.0|      73.0|       64.0|       89.0|        88.0|       80.0|   86.0|     90.0|   91.0|     88.0|   81.0|   76.0|    73.0|     83.0|      65.0|         24.0|       92.0|  83.0|     83.0|     90.0|   30.0|          20.0|         12.0|           FWD|153079|         2|\n",
            "|138956|     LCB|   188.976| 84.821704|    58.0|     33.0|           83.0|        59.0|   45.0|     58.0| 60.0|      31.0|       59.0|       57.0|        63.0|       75.0|   54.0|     82.0|   55.0|     78.0|   89.0|   65.0|    89.0|     49.0|      92.0|         88.0|       28.0|  50.0|     50.0|     84.0|   93.0|          93.0|         90.0|           DEF|138956|         0|\n",
            "+------+--------+----------+----------+--------+---------+---------------+------------+-------+---------+-----+----------+-----------+-----------+------------+-----------+-------+---------+-------+---------+-------+-------+--------+---------+----------+-------------+-----------+------+---------+---------+-------+--------------+-------------+--------------+------+----------+\n",
            "only showing top 20 rows\n",
            "\n"
          ],
          "name": "stdout"
        }
      ]
    },
    {
      "cell_type": "markdown",
      "metadata": {
        "colab_type": "text",
        "id": "IiHEevY6IOJz"
      },
      "source": [
        "## Part 3 - Supervised Learning: Classification on Position_Group\n",
        "\n",
        "<a id=\"classification\"></a>\n",
        "***\n",
        "\n",
        "In last part, you use the player's skill set values to segment the players into 8 clusters. Now we want to see whether we could accurately predict the position_group of the player.\n",
        "\n",
        "*Remind: You must only use **PySpark** to complete the following data processing and model building. Otherwise, you lose all marks.*\n",
        "\n",
        "\n",
        "### 3.1 Data Preparation\n",
        "\n",
        "We remove the feature of position and only use the skill set features and the cluster results from Kmeans as the input (you need to create a column for your cluster results and name it as Cluster) for the model. Your target for classification is \"Position_Group\"."
      ]
    },
    {
      "cell_type": "code",
      "metadata": {
        "colab_type": "code",
        "id": "PwtsyrUsI8e_",
        "outputId": "626978be-dee3-436d-c891-a62c76bc5ad2",
        "colab": {
          "base_uri": "https://localhost:8080/",
          "height": 170
        }
      },
      "source": [
        "FEATURES_COL_ = ['Height(CM)', 'Weight(KG)', \n",
        "                      'Crossing', 'Finishing', 'HeadingAccuracy', \n",
        "                      'ShortPassing', 'Volleys', 'Dribbling', 'Curve',\n",
        "                      'FKAccuracy', 'LongPassing', 'BallControl', \n",
        "                      'Acceleration', 'SprintSpeed', 'Agility', \n",
        "                      'Reactions', 'Balance', 'ShotPower', 'Jumping', \n",
        "                      'Stamina', 'Strength', 'LongShots', 'Aggression', \n",
        "                      'Interceptions', 'Positioning', 'Vision', 'Penalties', \n",
        "                      'Composure', 'Marking', 'StandingTackle', 'SlidingTackle','prediction']\n",
        "\n",
        "#create and transform vector for classification\n",
        "vecAssembler_ = VectorAssembler(inputCols=FEATURES_COL_, outputCol=\"features\")\n",
        "df_class_ = vecAssembler_.transform(df_kmeans_pred_).select('features','Position_Group')\n",
        "df_class_.show(3)"
      ],
      "execution_count": 0,
      "outputs": [
        {
          "output_type": "stream",
          "text": [
            "+--------------------+--------------+\n",
            "|            features|Position_Group|\n",
            "+--------------------+--------------+\n",
            "|[173.736,72.12112...|           FWD|\n",
            "|[188.976,83.00733...|           FWD|\n",
            "|[179.832,68.0388,...|           FWD|\n",
            "+--------------------+--------------+\n",
            "only showing top 3 rows\n",
            "\n"
          ],
          "name": "stdout"
        }
      ]
    },
    {
      "cell_type": "markdown",
      "metadata": {
        "colab_type": "text",
        "id": "AklN81TvMKJS"
      },
      "source": [
        "In many data science modelling work, feature scaling is very important.\n",
        "In here, we use standard scaling on the features."
      ]
    },
    {
      "cell_type": "code",
      "metadata": {
        "id": "XyTILU9g6j85",
        "colab_type": "code",
        "outputId": "335d185f-e284-495a-9793-11bbe68752df",
        "colab": {
          "base_uri": "https://localhost:8080/",
          "height": 204
        }
      },
      "source": [
        "from pyspark.ml.feature import StandardScaler\n",
        "#standarization\n",
        "standardscaler = StandardScaler().setInputCol(\"features\").setOutputCol(\"Scaled_features\")\n",
        "raw_data = standardscaler.fit(df_class_).transform(df_class_)\n",
        "raw_data.select(\"features\",\"Scaled_features\",'Position_Group').show(5)"
      ],
      "execution_count": 0,
      "outputs": [
        {
          "output_type": "stream",
          "text": [
            "+--------------------+--------------------+--------------+\n",
            "|            features|     Scaled_features|Position_Group|\n",
            "+--------------------+--------------------+--------------+\n",
            "|[173.736,72.12112...|[12.9261363965246...|           FWD|\n",
            "|[188.976,83.00733...|[14.0600080102548...|           FWD|\n",
            "|[179.832,68.0388,...|[13.3796850420167...|           FWD|\n",
            "|[155.7528,69.8531...|[11.5881678923229...|           MID|\n",
            "|[176.784,73.93549...|[13.1529107192706...|           FWD|\n",
            "+--------------------+--------------------+--------------+\n",
            "only showing top 5 rows\n",
            "\n"
          ],
          "name": "stdout"
        }
      ]
    },
    {
      "cell_type": "markdown",
      "metadata": {
        "colab_type": "text",
        "id": "DD6wgq2sgiGk"
      },
      "source": [
        "In Spark, you could not use string as Target data type, Please encode the Position_Group column by using following encoding: \n",
        "\n",
        "FWD = 0\n",
        "DEF = 1\n",
        "MID = 2\n",
        "\n",
        "*Hint: Data type after encoding should be numeric.*"
      ]
    },
    {
      "cell_type": "code",
      "metadata": {
        "colab_type": "code",
        "id": "OosmFX9iOc0Z",
        "colab": {}
      },
      "source": [
        "#change \"Position_Group\" by coding 0,1,2\n",
        "raw_data_ = raw_data.withColumn('Target',when(col(\"Position_Group\") == \"DEF\", 1)\n",
        "      .when(col(\"Position_Group\")== \"FWD\", 0)\n",
        "      .otherwise(2))"
      ],
      "execution_count": 0,
      "outputs": []
    },
    {
      "cell_type": "markdown",
      "metadata": {
        "colab_type": "text",
        "id": "NDfZARUNMW2M"
      },
      "source": [
        "### 3.2 Training Test Evaluation\n",
        "\n",
        "We remove the feature of position and use all other skill set features and the cluster results as the input for the model. The target for classification is \"Position_Group\".\n",
        "\n",
        "Now, we split your data into train/Test, and evaluate one model's performance."
      ]
    },
    {
      "cell_type": "code",
      "metadata": {
        "colab_type": "code",
        "id": "MmbanmwBMUQB",
        "colab": {}
      },
      "source": [
        "#separate train/test dataset \n",
        "train, test = raw_data_.randomSplit([0.7, 0.3], seed=12)"
      ],
      "execution_count": 0,
      "outputs": []
    },
    {
      "cell_type": "code",
      "metadata": {
        "colab_type": "code",
        "id": "apoKm9igMi12",
        "outputId": "22c65b40-5e56-44b4-9b22-eabf3f3ce21d",
        "colab": {
          "base_uri": "https://localhost:8080/",
          "height": 289
        }
      },
      "source": [
        "#create and fit a logistic regression classifier\n",
        "from pyspark.ml.classification import LogisticRegression\n",
        "lr = LogisticRegression(labelCol=\"Target\", featuresCol=\"Scaled_features\",maxIter=10)\n",
        "model1 = lr.fit(train)\n",
        "\n",
        "predict_train1 = model1.transform(train)\n",
        "predict_test1 = model1.transform(test)\n",
        "predict_test1.select(\"Target\",\"prediction\").show(10)"
      ],
      "execution_count": 0,
      "outputs": [
        {
          "output_type": "stream",
          "text": [
            "+------+----------+\n",
            "|Target|prediction|\n",
            "+------+----------+\n",
            "|     2|       2.0|\n",
            "|     2|       2.0|\n",
            "|     0|       2.0|\n",
            "|     2|       2.0|\n",
            "|     2|       2.0|\n",
            "|     2|       2.0|\n",
            "|     2|       2.0|\n",
            "|     1|       2.0|\n",
            "|     0|       0.0|\n",
            "|     2|       2.0|\n",
            "+------+----------+\n",
            "only showing top 10 rows\n",
            "\n"
          ],
          "name": "stdout"
        }
      ]
    },
    {
      "cell_type": "markdown",
      "metadata": {
        "colab_type": "text",
        "id": "wZk-Z7CcP6Ng"
      },
      "source": [
        "\n",
        "****\n",
        "\n",
        "\n",
        "<div class=\"alert alert-block alert-info\">\n",
        "\n",
        "**Code**: \n",
        "    You are required to evaluate the model by using confusion matrix. Please also print out your model's Precision, Recall and F1 score.\n",
        "\n",
        "<div class=\"alert alert-block alert-warning\">\n",
        "    \n",
        "**Report**: \n",
        "    **3.2** In your report with proper section title  '3.2', Please summarize the following:     \n",
        "    <ol>\n",
        "        <li> The confusion matrix </li>\n",
        "        <li> The Precision, Recall and F1 score</li>\n",
        "    </ol>\n",
        "</div>\n",
        "</div>\n",
        "\n",
        "\n"
      ]
    },
    {
      "cell_type": "code",
      "metadata": {
        "colab_type": "code",
        "id": "yPho8CbGQCCm",
        "outputId": "e689ec20-a772-4ed9-90aa-f7763f65fc78",
        "colab": {
          "base_uri": "https://localhost:8080/",
          "height": 68
        }
      },
      "source": [
        "#calculate confusion matrix\n",
        "from sklearn.metrics import confusion_matrix\n",
        "y_true = predict_test1.select(\"Target\").collect()\n",
        "y_pred = predict_test1.select(\"prediction\").collect()\n",
        "confusion_matrix(y_true, y_pred)"
      ],
      "execution_count": 0,
      "outputs": [
        {
          "output_type": "execute_result",
          "data": {
            "text/plain": [
              "array([[ 834,    5,  178],\n",
              "       [   2, 1422,  293],\n",
              "       [ 225,  238, 1619]])"
            ]
          },
          "metadata": {
            "tags": []
          },
          "execution_count": 28
        }
      ]
    },
    {
      "cell_type": "code",
      "metadata": {
        "colab_type": "code",
        "id": "d95nOilARR8H",
        "outputId": "643c2352-3a82-44c5-961d-97d8a8a64cb1",
        "colab": {
          "base_uri": "https://localhost:8080/",
          "height": 54
        }
      },
      "source": [
        "#calculate report including precision, recall, F1-score\n",
        "from sklearn.metrics import classification_report\n",
        "import csv\n",
        "target_names = [\"FWD\", \"DEF\", \"MID\"]\n",
        "classification_report(y_true, y_pred, target_names=target_names)"
      ],
      "execution_count": 0,
      "outputs": [
        {
          "output_type": "execute_result",
          "data": {
            "text/plain": [
              "'              precision    recall  f1-score   support\\n\\n         FWD       0.79      0.82      0.80      1017\\n         DEF       0.85      0.83      0.84      1717\\n         MID       0.77      0.78      0.78      2082\\n\\n    accuracy                           0.80      4816\\n   macro avg       0.80      0.81      0.81      4816\\nweighted avg       0.81      0.80      0.80      4816\\n'"
            ]
          },
          "metadata": {
            "tags": []
          },
          "execution_count": 29
        }
      ]
    },
    {
      "cell_type": "markdown",
      "metadata": {
        "colab_type": "text",
        "id": "4Iy-g_68Q8OV"
      },
      "source": [
        "### 3.3 K-fold Cross-Validation\n",
        "\n",
        "We surely missed something during the modelling work -- Hyper-parameter tuning! We can use K-fold cross validation to find out the best hyper-parameter set.\n",
        "\n",
        "****\n",
        "\n",
        "\n",
        "<div class=\"alert alert-block alert-info\">\n",
        "\n",
        "**Code**: \n",
        "    Please implement K-fold cross validation for three (any three) classification models.\n",
        "\n",
        "<div class=\"alert alert-block alert-warning\">\n",
        "    \n",
        "**Report**: \n",
        "    **3.3** In your report with proper section title  '3.3', Please summarize the following:     \n",
        "    <ol>\n",
        "        <li> Your code design and running results </li>\n",
        "        <li> Your findings on hyper-parameters based on this cross-validation results</li>\n",
        "        <li> Any difficulties you had </li>\n",
        "        <li> Any other possible tasks we could do on this dataset </li>\n",
        "    </ol>\n",
        "<b>Remind: fail to list the reference will lead a penalty and possibly plagiarism</b>    \n",
        "</div>\n",
        "</div>\n",
        "\n"
      ]
    },
    {
      "cell_type": "code",
      "metadata": {
        "colab_type": "code",
        "id": "0yCvsy1-jO7x",
        "colab": {}
      },
      "source": [
        "#packages required for cross-validation\n",
        "from pyspark.ml import Pipeline\n",
        "from pyspark.ml.classification import RandomForestClassifier, DecisionTreeClassifier\n",
        "from pyspark.ml.evaluation import MulticlassClassificationEvaluator\n",
        "from pyspark.ml.tuning import ParamGridBuilder, CrossValidator"
      ],
      "execution_count": 0,
      "outputs": []
    },
    {
      "cell_type": "code",
      "metadata": {
        "id": "F5-vIpX2J6Kt",
        "colab_type": "code",
        "outputId": "6fcf247e-aa5f-4b4d-c20f-6dd0e200afb5",
        "colab": {
          "base_uri": "https://localhost:8080/",
          "height": 289
        }
      },
      "source": [
        "#create and fit a Random Forest classifier\n",
        "rf = RandomForestClassifier(labelCol=\"Target\", featuresCol=\"Scaled_features\")\n",
        "model2 = rf.fit(train)\n",
        "\n",
        "predict_train2 = model2.transform(train)\n",
        "predict_test2 = model2.transform(test)\n",
        "predict_test2.select(\"Target\",\"prediction\").show(10)"
      ],
      "execution_count": 0,
      "outputs": [
        {
          "output_type": "stream",
          "text": [
            "+------+----------+\n",
            "|Target|prediction|\n",
            "+------+----------+\n",
            "|     2|       2.0|\n",
            "|     2|       2.0|\n",
            "|     0|       2.0|\n",
            "|     2|       2.0|\n",
            "|     2|       2.0|\n",
            "|     2|       2.0|\n",
            "|     2|       2.0|\n",
            "|     1|       1.0|\n",
            "|     0|       0.0|\n",
            "|     2|       2.0|\n",
            "+------+----------+\n",
            "only showing top 10 rows\n",
            "\n"
          ],
          "name": "stdout"
        }
      ]
    },
    {
      "cell_type": "code",
      "metadata": {
        "id": "RtF-NVhWEO8N",
        "colab_type": "code",
        "outputId": "0b01e745-504b-4c84-9246-d2c94f160c1c",
        "colab": {
          "base_uri": "https://localhost:8080/",
          "height": 289
        }
      },
      "source": [
        "#create and fit a decision tree classifier\n",
        "dt = DecisionTreeClassifier(labelCol=\"Target\", featuresCol=\"Scaled_features\")\n",
        "model3 = dt.fit(train)\n",
        "\n",
        "predict_train3 = model3.transform(train)\n",
        "predict_test3 = model3.transform(test)\n",
        "predict_test3.select(\"Target\",\"prediction\").show(10)"
      ],
      "execution_count": 0,
      "outputs": [
        {
          "output_type": "stream",
          "text": [
            "+------+----------+\n",
            "|Target|prediction|\n",
            "+------+----------+\n",
            "|     2|       2.0|\n",
            "|     2|       2.0|\n",
            "|     0|       0.0|\n",
            "|     2|       2.0|\n",
            "|     2|       2.0|\n",
            "|     2|       2.0|\n",
            "|     2|       2.0|\n",
            "|     1|       1.0|\n",
            "|     0|       0.0|\n",
            "|     2|       2.0|\n",
            "+------+----------+\n",
            "only showing top 10 rows\n",
            "\n"
          ],
          "name": "stdout"
        }
      ]
    },
    {
      "cell_type": "code",
      "metadata": {
        "id": "XXcPK7MqIxBs",
        "colab_type": "code",
        "outputId": "06e0a49e-7366-4e4b-8da2-137f5fa10dcc",
        "colab": {
          "base_uri": "https://localhost:8080/",
          "height": 309
        }
      },
      "source": [
        "#k fold cross-validation for logistic regression classifier\n",
        "training = predict_test1.select(\"Target\", \"Scaled_features\")\n",
        "evaluator = MulticlassClassificationEvaluator(predictionCol=\"prediction\", labelCol=\"Target\", metricName=\"f1\")\n",
        "pipeline = Pipeline(stages=[lr])\n",
        "paramGrid = ParamGridBuilder()\\\n",
        "            .addGrid(lr.regParam, [0.1, 0.01])\\\n",
        "            .build() \n",
        "\n",
        "crossval = CrossValidator(estimator=pipeline,\\\n",
        "                          estimatorParamMaps=paramGrid,\\\n",
        "                          evaluator=evaluator,\\\n",
        "                          numFolds=2)\n",
        "#run cross-validation and choose the best set of parameters\n",
        "model = crossval.fit(training)\n",
        "print(model.avgMetrics)\n",
        "predictions = model.transform(test)\n",
        "print(evaluator.evaluate(predictions))\n",
        "model.bestModel.stages[-1].extractParamMap()"
      ],
      "execution_count": 0,
      "outputs": [
        {
          "output_type": "stream",
          "text": [
            "[0.7993140139825083, 0.798706601172136]\n",
            "0.8007798385821261\n"
          ],
          "name": "stdout"
        },
        {
          "output_type": "execute_result",
          "data": {
            "text/plain": [
              "{Param(parent='LogisticRegression_5a80b2bb4a75', name='aggregationDepth', doc='suggested depth for treeAggregate (>= 2)'): 2,\n",
              " Param(parent='LogisticRegression_5a80b2bb4a75', name='elasticNetParam', doc='the ElasticNet mixing parameter, in range [0, 1]. For alpha = 0, the penalty is an L2 penalty. For alpha = 1, it is an L1 penalty'): 0.0,\n",
              " Param(parent='LogisticRegression_5a80b2bb4a75', name='family', doc='The name of family which is a description of the label distribution to be used in the model. Supported options: auto, binomial, multinomial.'): 'auto',\n",
              " Param(parent='LogisticRegression_5a80b2bb4a75', name='featuresCol', doc='features column name'): 'Scaled_features',\n",
              " Param(parent='LogisticRegression_5a80b2bb4a75', name='fitIntercept', doc='whether to fit an intercept term'): True,\n",
              " Param(parent='LogisticRegression_5a80b2bb4a75', name='labelCol', doc='label column name'): 'Target',\n",
              " Param(parent='LogisticRegression_5a80b2bb4a75', name='maxIter', doc='maximum number of iterations (>= 0)'): 10,\n",
              " Param(parent='LogisticRegression_5a80b2bb4a75', name='predictionCol', doc='prediction column name'): 'prediction',\n",
              " Param(parent='LogisticRegression_5a80b2bb4a75', name='probabilityCol', doc='Column name for predicted class conditional probabilities. Note: Not all models output well-calibrated probability estimates! These probabilities should be treated as confidences, not precise probabilities'): 'probability',\n",
              " Param(parent='LogisticRegression_5a80b2bb4a75', name='rawPredictionCol', doc='raw prediction (a.k.a. confidence) column name'): 'rawPrediction',\n",
              " Param(parent='LogisticRegression_5a80b2bb4a75', name='regParam', doc='regularization parameter (>= 0)'): 0.1,\n",
              " Param(parent='LogisticRegression_5a80b2bb4a75', name='standardization', doc='whether to standardize the training features before fitting the model'): True,\n",
              " Param(parent='LogisticRegression_5a80b2bb4a75', name='threshold', doc='threshold in binary classification prediction, in range [0, 1]'): 0.5,\n",
              " Param(parent='LogisticRegression_5a80b2bb4a75', name='tol', doc='the convergence tolerance for iterative algorithms (>= 0)'): 1e-06}"
            ]
          },
          "metadata": {
            "tags": []
          },
          "execution_count": 130
        }
      ]
    },
    {
      "cell_type": "code",
      "metadata": {
        "id": "2BMGpweiyhIa",
        "colab_type": "code",
        "outputId": "0b37c77e-8d3b-4654-a346-8ea435ab3e01",
        "colab": {
          "base_uri": "https://localhost:8080/",
          "height": 360
        }
      },
      "source": [
        "#k fold cross-validation for random forest classifier\n",
        "training = predict_test2.select(\"Target\", \"Scaled_features\")\n",
        "evaluator = MulticlassClassificationEvaluator(predictionCol=\"prediction\", labelCol=\"Target\", metricName=\"f1\")\n",
        "pipeline = Pipeline(stages=[rf])\n",
        "paramGrid = ParamGridBuilder()\\\n",
        "            .addGrid(rf.numTrees, [1,10])\\\n",
        "            .build() \n",
        "\n",
        "crossval = CrossValidator(estimator=pipeline,\\\n",
        "                          estimatorParamMaps=paramGrid,\\\n",
        "                          evaluator=evaluator,\\\n",
        "                          numFolds=2)\n",
        "#run cross-validation and choose the best set of parameters\n",
        "model = crossval.fit(training)\n",
        "print(model.avgMetrics)\n",
        "predictions = model.transform(test)\n",
        "print(evaluator.evaluate(predictions))\n",
        "model.bestModel.stages[-1].extractParamMap()"
      ],
      "execution_count": 0,
      "outputs": [
        {
          "output_type": "stream",
          "text": [
            "[0.7955835974391585, 0.8131425087855292]\n",
            "0.8289432967580806\n"
          ],
          "name": "stdout"
        },
        {
          "output_type": "execute_result",
          "data": {
            "text/plain": [
              "{Param(parent='RandomForestClassifier_86b9adcb1560', name='cacheNodeIds', doc='If false, the algorithm will pass trees to executors to match instances with nodes. If true, the algorithm will cache node IDs for each instance. Caching can speed up training of deeper trees.'): False,\n",
              " Param(parent='RandomForestClassifier_86b9adcb1560', name='checkpointInterval', doc='set checkpoint interval (>= 1) or disable checkpoint (-1). E.g. 10 means that the cache will get checkpointed every 10 iterations. Note: this setting will be ignored if the checkpoint directory is not set in the SparkContext'): 10,\n",
              " Param(parent='RandomForestClassifier_86b9adcb1560', name='featureSubsetStrategy', doc='The number of features to consider for splits at each tree node. Supported options: auto, all, onethird, sqrt, log2, (0.0-1.0], [1-n].'): 'auto',\n",
              " Param(parent='RandomForestClassifier_86b9adcb1560', name='featuresCol', doc='features column name'): 'Scaled_features',\n",
              " Param(parent='RandomForestClassifier_86b9adcb1560', name='impurity', doc='Criterion used for information gain calculation (case-insensitive). Supported options: entropy, gini'): 'gini',\n",
              " Param(parent='RandomForestClassifier_86b9adcb1560', name='labelCol', doc='label column name'): 'Target',\n",
              " Param(parent='RandomForestClassifier_86b9adcb1560', name='maxBins', doc='Max number of bins for discretizing continuous features.  Must be >=2 and >= number of categories for any categorical feature.'): 32,\n",
              " Param(parent='RandomForestClassifier_86b9adcb1560', name='maxDepth', doc='Maximum depth of the tree. (>= 0) E.g., depth 0 means 1 leaf node; depth 1 means 1 internal node + 2 leaf nodes.'): 5,\n",
              " Param(parent='RandomForestClassifier_86b9adcb1560', name='maxMemoryInMB', doc='Maximum memory in MB allocated to histogram aggregation.'): 256,\n",
              " Param(parent='RandomForestClassifier_86b9adcb1560', name='minInfoGain', doc='Minimum information gain for a split to be considered at a tree node.'): 0.0,\n",
              " Param(parent='RandomForestClassifier_86b9adcb1560', name='minInstancesPerNode', doc='Minimum number of instances each child must have after split.  If a split causes the left or right child to have fewer than minInstancesPerNode, the split will be discarded as invalid. Should be >= 1.'): 1,\n",
              " Param(parent='RandomForestClassifier_86b9adcb1560', name='numTrees', doc='Number of trees to train (>= 1)'): 10,\n",
              " Param(parent='RandomForestClassifier_86b9adcb1560', name='predictionCol', doc='prediction column name'): 'prediction',\n",
              " Param(parent='RandomForestClassifier_86b9adcb1560', name='probabilityCol', doc='Column name for predicted class conditional probabilities. Note: Not all models output well-calibrated probability estimates! These probabilities should be treated as confidences, not precise probabilities'): 'probability',\n",
              " Param(parent='RandomForestClassifier_86b9adcb1560', name='rawPredictionCol', doc='raw prediction (a.k.a. confidence) column name'): 'rawPrediction',\n",
              " Param(parent='RandomForestClassifier_86b9adcb1560', name='seed', doc='random seed'): 4460317350408087586,\n",
              " Param(parent='RandomForestClassifier_86b9adcb1560', name='subsamplingRate', doc='Fraction of the training data used for learning each decision tree, in range (0, 1].'): 1.0}"
            ]
          },
          "metadata": {
            "tags": []
          },
          "execution_count": 34
        }
      ]
    },
    {
      "cell_type": "code",
      "metadata": {
        "id": "jQtsUFCq-B-S",
        "colab_type": "code",
        "outputId": "0d78ef7b-b3a8-4499-d809-41ef5e80b611",
        "colab": {
          "base_uri": "https://localhost:8080/",
          "height": 309
        }
      },
      "source": [
        "#k fold cross-validation for decision tree classifier\n",
        "training = predict_test3.select(\"Target\", \"Scaled_features\")\n",
        "evaluator = MulticlassClassificationEvaluator(predictionCol=\"prediction\", labelCol=\"Target\", metricName=\"f1\")\n",
        "pipeline = Pipeline(stages=[dt])\n",
        "paramGrid = ParamGridBuilder()\\\n",
        "            .addGrid(dt.maxDepth, [2, 10])\\\n",
        "            .build() \n",
        "\n",
        "crossval = CrossValidator(estimator=pipeline,\\\n",
        "                          estimatorParamMaps=paramGrid,\\\n",
        "                          evaluator=evaluator,\\\n",
        "                          numFolds=2)\n",
        "#run cross-validation and choose the best set of parameters\n",
        "model = crossval.fit(training)\n",
        "print(model.avgMetrics)\n",
        "predictions = model.transform(test)\n",
        "print(evaluator.evaluate(predictions))\n",
        "model.bestModel.stages[-1].extractParamMap()"
      ],
      "execution_count": 0,
      "outputs": [
        {
          "output_type": "stream",
          "text": [
            "[0.7174797255555181, 0.7757307913580018]\n",
            "0.9417483506533753\n"
          ],
          "name": "stdout"
        },
        {
          "output_type": "execute_result",
          "data": {
            "text/plain": [
              "{Param(parent='DecisionTreeClassifier_df0d23255a13', name='cacheNodeIds', doc='If false, the algorithm will pass trees to executors to match instances with nodes. If true, the algorithm will cache node IDs for each instance. Caching can speed up training of deeper trees.'): False,\n",
              " Param(parent='DecisionTreeClassifier_df0d23255a13', name='checkpointInterval', doc='set checkpoint interval (>= 1) or disable checkpoint (-1). E.g. 10 means that the cache will get checkpointed every 10 iterations. Note: this setting will be ignored if the checkpoint directory is not set in the SparkContext'): 10,\n",
              " Param(parent='DecisionTreeClassifier_df0d23255a13', name='featuresCol', doc='features column name'): 'Scaled_features',\n",
              " Param(parent='DecisionTreeClassifier_df0d23255a13', name='impurity', doc='Criterion used for information gain calculation (case-insensitive). Supported options: entropy, gini'): 'gini',\n",
              " Param(parent='DecisionTreeClassifier_df0d23255a13', name='labelCol', doc='label column name'): 'Target',\n",
              " Param(parent='DecisionTreeClassifier_df0d23255a13', name='maxBins', doc='Max number of bins for discretizing continuous features.  Must be >=2 and >= number of categories for any categorical feature.'): 32,\n",
              " Param(parent='DecisionTreeClassifier_df0d23255a13', name='maxDepth', doc='Maximum depth of the tree. (>= 0) E.g., depth 0 means 1 leaf node; depth 1 means 1 internal node + 2 leaf nodes.'): 10,\n",
              " Param(parent='DecisionTreeClassifier_df0d23255a13', name='maxMemoryInMB', doc='Maximum memory in MB allocated to histogram aggregation.'): 256,\n",
              " Param(parent='DecisionTreeClassifier_df0d23255a13', name='minInfoGain', doc='Minimum information gain for a split to be considered at a tree node.'): 0.0,\n",
              " Param(parent='DecisionTreeClassifier_df0d23255a13', name='minInstancesPerNode', doc='Minimum number of instances each child must have after split.  If a split causes the left or right child to have fewer than minInstancesPerNode, the split will be discarded as invalid. Should be >= 1.'): 1,\n",
              " Param(parent='DecisionTreeClassifier_df0d23255a13', name='predictionCol', doc='prediction column name'): 'prediction',\n",
              " Param(parent='DecisionTreeClassifier_df0d23255a13', name='probabilityCol', doc='Column name for predicted class conditional probabilities. Note: Not all models output well-calibrated probability estimates! These probabilities should be treated as confidences, not precise probabilities'): 'probability',\n",
              " Param(parent='DecisionTreeClassifier_df0d23255a13', name='rawPredictionCol', doc='raw prediction (a.k.a. confidence) column name'): 'rawPrediction',\n",
              " Param(parent='DecisionTreeClassifier_df0d23255a13', name='seed', doc='random seed'): -7433166313338622388}"
            ]
          },
          "metadata": {
            "tags": []
          },
          "execution_count": 35
        }
      ]
    },
    {
      "cell_type": "code",
      "metadata": {
        "id": "l9qC3JpaDlm4",
        "colab_type": "code",
        "outputId": "1d00b5f1-c5bf-43a1-855b-99cdae7dfdb2",
        "colab": {
          "base_uri": "https://localhost:8080/",
          "height": 68
        }
      },
      "source": [
        "#performance measurement\n",
        "from pyspark.ml.evaluation import BinaryClassificationEvaluator\n",
        "evaluator = BinaryClassificationEvaluator(labelCol='Target')\n",
        "print(\"Test Area Under ROC Model 1: \" + str(evaluator.evaluate(predict_test1, {evaluator.metricName: \"areaUnderROC\"})))\n",
        "evaluator = BinaryClassificationEvaluator(labelCol='Target')\n",
        "print(\"Test Area Under ROC Model 2: \" + str(evaluator.evaluate(predict_test2, {evaluator.metricName: \"areaUnderROC\"})))\n",
        "evaluator = BinaryClassificationEvaluator(labelCol='Target')\n",
        "print(\"Test Area Under ROC Model 3: \" + str(evaluator.evaluate(predict_test3, {evaluator.metricName: \"areaUnderROC\"})))"
      ],
      "execution_count": 0,
      "outputs": [
        {
          "output_type": "stream",
          "text": [
            "Test Area Under ROC Model 1: 0.8796754204581618\n",
            "Test Area Under ROC Model 2: 0.9473330843416575\n",
            "Test Area Under ROC Model 3: 0.9011675173019449\n"
          ],
          "name": "stdout"
        }
      ]
    },
    {
      "cell_type": "code",
      "metadata": {
        "id": "cqWnweMKn7YS",
        "colab_type": "code",
        "outputId": "7dd06cd4-00ea-4f66-d3b7-f9a8f2654345",
        "colab": {
          "base_uri": "https://localhost:8080/",
          "height": 312
        }
      },
      "source": [
        "#get importantce features from best model and plot \n",
        "importance_list = pd.Series(model2.featureImportances.values)\n",
        "index = np.arange(len(importance_list))\n",
        "plt.bar(index, importance_list)\n",
        "plt.title(\"Features importance\")\n",
        "plt.ylabel(\"level\")\n",
        "plt.xlabel(\"Feature\")"
      ],
      "execution_count": 0,
      "outputs": [
        {
          "output_type": "execute_result",
          "data": {
            "text/plain": [
              "Text(0.5, 0, 'Feature')"
            ]
          },
          "metadata": {
            "tags": []
          },
          "execution_count": 149
        },
        {
          "output_type": "display_data",
          "data": {
            "image/png": "[encoded data removed]",
            "text/plain": [
              "<Figure size 432x288 with 1 Axes>"
            ]
          },
          "metadata": {
            "tags": [],
            "needs_background": "light"
          }
        }
      ]
    },
    {
      "cell_type": "code",
      "metadata": {
        "id": "KAA9X7pIAqsZ",
        "colab_type": "code",
        "outputId": "86501b8c-b8b5-46d3-93f1-62eaa36ddce5",
        "colab": {
          "base_uri": "https://localhost:8080/",
          "height": 34
        }
      },
      "source": [
        "#important features > 0.050\n",
        "sorted_imp = importance_list.sort_values(ascending= False)\n",
        "index_imp_features = list((sorted_imp[sorted_imp > 0.050]).index)\n",
        "index_imp_features"
      ],
      "execution_count": 0,
      "outputs": [
        {
          "output_type": "execute_result",
          "data": {
            "text/plain": [
              "[30, 23, 25, 29, 28, 3, 4]"
            ]
          },
          "metadata": {
            "tags": []
          },
          "execution_count": 182
        }
      ]
    },
    {
      "cell_type": "code",
      "metadata": {
        "id": "4X1wUyevFSFN",
        "colab_type": "code",
        "outputId": "ca0bafa6-9695-46a2-e2df-63e6105e0b31",
        "colab": {
          "base_uri": "https://localhost:8080/",
          "height": 204
        }
      },
      "source": [
        "#define rising star using most important features and age <= 25\n",
        "df_rising_star = df.withColumn(\"Rising_star\", df[24+30]+df[24+23]+df[24+25]+df[24+29]+df[24+28]+df[24+3]+df[24+4])\n",
        "df_rising_star.where((col(\"Age\") <= 25)).orderBy(\"Rising_star\", ascending=False).select(\"Name\", \"Age\", \"Rising_star\").show(5)"
      ],
      "execution_count": 0,
      "outputs": [
        {
          "output_type": "stream",
          "text": [
            "+--------------+---+-----------+\n",
            "|          Name|Age|Rising_star|\n",
            "+--------------+---+-----------+\n",
            "|     R. Lukaku| 25| 706.893544|\n",
            "|J. Vestergaard| 25| 703.975872|\n",
            "|       H. Kane| 24| 703.904032|\n",
            "|     S. Haller| 24| 691.171992|\n",
            "|      P. Pogba| 25|  690.91452|\n",
            "+--------------+---+-----------+\n",
            "only showing top 5 rows\n",
            "\n"
          ],
          "name": "stdout"
        }
      ]
    }
  ]
}